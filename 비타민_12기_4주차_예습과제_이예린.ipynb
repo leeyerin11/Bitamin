{
 "cells": [
  {
   "cell_type": "markdown",
   "metadata": {
    "id": "JUfRNrCu7gGX"
   },
   "source": [
    "# 머신러닝 4차세션 예습과제\n",
    "\n",
    "- 9/12 화요일 23:59 (4차세션 전날)까지 제출\n",
    "- 제출 파일명 : 비타민_12기_4주차_예습과제_본인이름.ipynb  로 제출\n",
    "- ipynb 파일로 제출\n",
    "- 지각 제출은 허용하지 않음"
   ]
  },
  {
   "cell_type": "markdown",
   "metadata": {
    "id": "QUmHO1ju-PcC"
   },
   "source": [
    "# 실습 1"
   ]
  },
  {
   "cell_type": "markdown",
   "metadata": {
    "id": "l5m9WJpp6aJU"
   },
   "source": [
    "## 보팅 (25점)"
   ]
  },
  {
   "cell_type": "markdown",
   "metadata": {
    "id": "FRbNPIer8RNP"
   },
   "source": [
    "이번 예습과제에 사용할 데이터는 사이킷런 내장 데이터인 wine 데이터입니다."
   ]
  },
  {
   "cell_type": "markdown",
   "metadata": {
    "id": "Esuz-1Sq8TF8"
   },
   "source": [
    "### 1-1. 다음 (a), (b), (c), (d)에 들어갈 용어를 쓰시오. (4점, 각 1점)"
   ]
  },
  {
   "cell_type": "markdown",
   "metadata": {
    "id": "yZ54xxyt8V4a"
   },
   "source": [
    "1. 보팅의 유형으로는 (a) 와 (b)가 있다.\n",
    "2. (a) 은 예측한 결괏값들 중 (c)의 분류기가 결정한 예측값을 최종 결괏값으로 선정한다.\n",
    "3. (b) 은 분류기들의 레이블 값 결정 (d)(를/을) 모두 더하고 이를 평균해서 이들 중 (d)(이/가) 가장 높은 레이블 값을 최종 결괏값으로 선정한다."
   ]
  },
  {
   "cell_type": "code",
   "execution_count": 3,
   "metadata": {
    "id": "tC8y2y4gAArO"
   },
   "outputs": [],
   "source": [
    "# 답안 : (a)하드보팅  (b)소프트보팅  (c)다수  (d)확률 "
   ]
  },
  {
   "cell_type": "markdown",
   "metadata": {
    "id": "0mVocDul8n8m"
   },
   "source": [
    "### 1-2. wine data로 보팅 방식의 앙상블을 구현하시오. '구현' 부분을 채우시면 됩니다 (21점)"
   ]
  },
  {
   "cell_type": "markdown",
   "metadata": {
    "id": "yoloB7wU8q8D"
   },
   "source": [
    "아래 코드를 실행하시오"
   ]
  },
  {
   "cell_type": "code",
   "execution_count": 4,
   "metadata": {
    "id": "XoNGC0UI8rHT"
   },
   "outputs": [
    {
     "data": {
      "text/html": [
       "<div>\n",
       "<style scoped>\n",
       "    .dataframe tbody tr th:only-of-type {\n",
       "        vertical-align: middle;\n",
       "    }\n",
       "\n",
       "    .dataframe tbody tr th {\n",
       "        vertical-align: top;\n",
       "    }\n",
       "\n",
       "    .dataframe thead th {\n",
       "        text-align: right;\n",
       "    }\n",
       "</style>\n",
       "<table border=\"1\" class=\"dataframe\">\n",
       "  <thead>\n",
       "    <tr style=\"text-align: right;\">\n",
       "      <th></th>\n",
       "      <th>alcohol</th>\n",
       "      <th>malic_acid</th>\n",
       "      <th>ash</th>\n",
       "      <th>alcalinity_of_ash</th>\n",
       "      <th>magnesium</th>\n",
       "      <th>total_phenols</th>\n",
       "      <th>flavanoids</th>\n",
       "      <th>nonflavanoid_phenols</th>\n",
       "      <th>proanthocyanins</th>\n",
       "      <th>color_intensity</th>\n",
       "      <th>hue</th>\n",
       "      <th>od280/od315_of_diluted_wines</th>\n",
       "      <th>proline</th>\n",
       "    </tr>\n",
       "  </thead>\n",
       "  <tbody>\n",
       "    <tr>\n",
       "      <th>0</th>\n",
       "      <td>14.23</td>\n",
       "      <td>1.71</td>\n",
       "      <td>2.43</td>\n",
       "      <td>15.6</td>\n",
       "      <td>127.0</td>\n",
       "      <td>2.80</td>\n",
       "      <td>3.06</td>\n",
       "      <td>0.28</td>\n",
       "      <td>2.29</td>\n",
       "      <td>5.64</td>\n",
       "      <td>1.04</td>\n",
       "      <td>3.92</td>\n",
       "      <td>1065.0</td>\n",
       "    </tr>\n",
       "    <tr>\n",
       "      <th>1</th>\n",
       "      <td>13.20</td>\n",
       "      <td>1.78</td>\n",
       "      <td>2.14</td>\n",
       "      <td>11.2</td>\n",
       "      <td>100.0</td>\n",
       "      <td>2.65</td>\n",
       "      <td>2.76</td>\n",
       "      <td>0.26</td>\n",
       "      <td>1.28</td>\n",
       "      <td>4.38</td>\n",
       "      <td>1.05</td>\n",
       "      <td>3.40</td>\n",
       "      <td>1050.0</td>\n",
       "    </tr>\n",
       "    <tr>\n",
       "      <th>2</th>\n",
       "      <td>13.16</td>\n",
       "      <td>2.36</td>\n",
       "      <td>2.67</td>\n",
       "      <td>18.6</td>\n",
       "      <td>101.0</td>\n",
       "      <td>2.80</td>\n",
       "      <td>3.24</td>\n",
       "      <td>0.30</td>\n",
       "      <td>2.81</td>\n",
       "      <td>5.68</td>\n",
       "      <td>1.03</td>\n",
       "      <td>3.17</td>\n",
       "      <td>1185.0</td>\n",
       "    </tr>\n",
       "    <tr>\n",
       "      <th>3</th>\n",
       "      <td>14.37</td>\n",
       "      <td>1.95</td>\n",
       "      <td>2.50</td>\n",
       "      <td>16.8</td>\n",
       "      <td>113.0</td>\n",
       "      <td>3.85</td>\n",
       "      <td>3.49</td>\n",
       "      <td>0.24</td>\n",
       "      <td>2.18</td>\n",
       "      <td>7.80</td>\n",
       "      <td>0.86</td>\n",
       "      <td>3.45</td>\n",
       "      <td>1480.0</td>\n",
       "    </tr>\n",
       "    <tr>\n",
       "      <th>4</th>\n",
       "      <td>13.24</td>\n",
       "      <td>2.59</td>\n",
       "      <td>2.87</td>\n",
       "      <td>21.0</td>\n",
       "      <td>118.0</td>\n",
       "      <td>2.80</td>\n",
       "      <td>2.69</td>\n",
       "      <td>0.39</td>\n",
       "      <td>1.82</td>\n",
       "      <td>4.32</td>\n",
       "      <td>1.04</td>\n",
       "      <td>2.93</td>\n",
       "      <td>735.0</td>\n",
       "    </tr>\n",
       "  </tbody>\n",
       "</table>\n",
       "</div>"
      ],
      "text/plain": [
       "   alcohol  malic_acid   ash  alcalinity_of_ash  magnesium  total_phenols  \\\n",
       "0    14.23        1.71  2.43               15.6      127.0           2.80   \n",
       "1    13.20        1.78  2.14               11.2      100.0           2.65   \n",
       "2    13.16        2.36  2.67               18.6      101.0           2.80   \n",
       "3    14.37        1.95  2.50               16.8      113.0           3.85   \n",
       "4    13.24        2.59  2.87               21.0      118.0           2.80   \n",
       "\n",
       "   flavanoids  nonflavanoid_phenols  proanthocyanins  color_intensity   hue  \\\n",
       "0        3.06                  0.28             2.29             5.64  1.04   \n",
       "1        2.76                  0.26             1.28             4.38  1.05   \n",
       "2        3.24                  0.30             2.81             5.68  1.03   \n",
       "3        3.49                  0.24             2.18             7.80  0.86   \n",
       "4        2.69                  0.39             1.82             4.32  1.04   \n",
       "\n",
       "   od280/od315_of_diluted_wines  proline  \n",
       "0                          3.92   1065.0  \n",
       "1                          3.40   1050.0  \n",
       "2                          3.17   1185.0  \n",
       "3                          3.45   1480.0  \n",
       "4                          2.93    735.0  "
      ]
     },
     "execution_count": 4,
     "metadata": {},
     "output_type": "execute_result"
    }
   ],
   "source": [
    "import pandas as pd\n",
    "\n",
    "from sklearn.ensemble import VotingClassifier\n",
    "from sklearn.linear_model import LogisticRegression\n",
    "from sklearn.neighbors import KNeighborsClassifier\n",
    "from sklearn.datasets import load_wine\n",
    "from sklearn. model_selection import train_test_split\n",
    "from sklearn.metrics import accuracy_score\n",
    "\n",
    "dataset = load_wine()\n",
    "wine = pd.DataFrame(data = dataset.data, columns = dataset.feature_names)\n",
    "wine.head()"
   ]
  },
  {
   "cell_type": "markdown",
   "metadata": {
    "id": "0Sl6tQ608tpE"
   },
   "source": [
    "### 1-2 (1) 로지스틱 회귀와 KNN을 기반으로 소프트 보팅 방식으로 보팅 분류기를 생성하시오. (단, KNN의 군집의 개수는 8로 하시오.) (4점)"
   ]
  },
  {
   "cell_type": "code",
   "execution_count": 5,
   "metadata": {
    "id": "-F8hhHbZ8Rkh"
   },
   "outputs": [],
   "source": [
    "lr_clf = LogisticRegression()\n",
    "knn_clf = KNeighborsClassifier(n_neighbors=8)"
   ]
  },
  {
   "cell_type": "code",
   "execution_count": 6,
   "metadata": {},
   "outputs": [
    {
     "data": {
      "text/html": [
       "<div>\n",
       "<style scoped>\n",
       "    .dataframe tbody tr th:only-of-type {\n",
       "        vertical-align: middle;\n",
       "    }\n",
       "\n",
       "    .dataframe tbody tr th {\n",
       "        vertical-align: top;\n",
       "    }\n",
       "\n",
       "    .dataframe thead th {\n",
       "        text-align: right;\n",
       "    }\n",
       "</style>\n",
       "<table border=\"1\" class=\"dataframe\">\n",
       "  <thead>\n",
       "    <tr style=\"text-align: right;\">\n",
       "      <th></th>\n",
       "      <th>0</th>\n",
       "    </tr>\n",
       "  </thead>\n",
       "  <tbody>\n",
       "    <tr>\n",
       "      <th>0</th>\n",
       "      <td>0</td>\n",
       "    </tr>\n",
       "    <tr>\n",
       "      <th>1</th>\n",
       "      <td>0</td>\n",
       "    </tr>\n",
       "    <tr>\n",
       "      <th>2</th>\n",
       "      <td>0</td>\n",
       "    </tr>\n",
       "    <tr>\n",
       "      <th>3</th>\n",
       "      <td>0</td>\n",
       "    </tr>\n",
       "    <tr>\n",
       "      <th>4</th>\n",
       "      <td>0</td>\n",
       "    </tr>\n",
       "    <tr>\n",
       "      <th>...</th>\n",
       "      <td>...</td>\n",
       "    </tr>\n",
       "    <tr>\n",
       "      <th>173</th>\n",
       "      <td>2</td>\n",
       "    </tr>\n",
       "    <tr>\n",
       "      <th>174</th>\n",
       "      <td>2</td>\n",
       "    </tr>\n",
       "    <tr>\n",
       "      <th>175</th>\n",
       "      <td>2</td>\n",
       "    </tr>\n",
       "    <tr>\n",
       "      <th>176</th>\n",
       "      <td>2</td>\n",
       "    </tr>\n",
       "    <tr>\n",
       "      <th>177</th>\n",
       "      <td>2</td>\n",
       "    </tr>\n",
       "  </tbody>\n",
       "</table>\n",
       "<p>178 rows × 1 columns</p>\n",
       "</div>"
      ],
      "text/plain": [
       "     0\n",
       "0    0\n",
       "1    0\n",
       "2    0\n",
       "3    0\n",
       "4    0\n",
       "..  ..\n",
       "173  2\n",
       "174  2\n",
       "175  2\n",
       "176  2\n",
       "177  2\n",
       "\n",
       "[178 rows x 1 columns]"
      ]
     },
     "execution_count": 6,
     "metadata": {},
     "output_type": "execute_result"
    }
   ],
   "source": [
    "wine_y = pd.DataFrame(data = dataset.target)\n",
    "wine_y"
   ]
  },
  {
   "cell_type": "markdown",
   "metadata": {
    "id": "M4bvU2d48wKC"
   },
   "source": [
    "### 1-2 (2) 개별 모델을 소프트 보팅 기반의 앙상블 모델로 구현한 분류기를 생성하고, 데이터 셋을 훈련세트와 테스트 세트로 분류하시오. (4점)"
   ]
  },
  {
   "cell_type": "code",
   "execution_count": 7,
   "metadata": {
    "id": "NR80uSPI6bg7"
   },
   "outputs": [],
   "source": [
    "vo_clf = VotingClassifier(estimators=[('LR',lr_clf),('KNN',knn_clf)],voting='soft')\n",
    "\n",
    "X_train, X_test, y_train, y_test = train_test_split(wine,wine_y,test_size = 0.2, random_state = 156)"
   ]
  },
  {
   "cell_type": "markdown",
   "metadata": {
    "id": "n8nfFSr58y1X"
   },
   "source": [
    "### 1-2 (3) VotingClassifier를 학습/예측/평가하시오.(fit, predict, 정확도 사용) (6점)"
   ]
  },
  {
   "cell_type": "code",
   "execution_count": 8,
   "metadata": {
    "id": "UHbW_qjD5vMX"
   },
   "outputs": [
    {
     "name": "stdout",
     "output_type": "stream",
     "text": [
      "보팅 정확도:  0.9722222222222222\n"
     ]
    },
    {
     "name": "stderr",
     "output_type": "stream",
     "text": [
      "C:\\ProgramData\\Anaconda3\\lib\\site-packages\\sklearn\\utils\\validation.py:63: DataConversionWarning: A column-vector y was passed when a 1d array was expected. Please change the shape of y to (n_samples, ), for example using ravel().\n",
      "  return f(*args, **kwargs)\n",
      "C:\\ProgramData\\Anaconda3\\lib\\site-packages\\sklearn\\linear_model\\_logistic.py:763: ConvergenceWarning: lbfgs failed to converge (status=1):\n",
      "STOP: TOTAL NO. of ITERATIONS REACHED LIMIT.\n",
      "\n",
      "Increase the number of iterations (max_iter) or scale the data as shown in:\n",
      "    https://scikit-learn.org/stable/modules/preprocessing.html\n",
      "Please also refer to the documentation for alternative solver options:\n",
      "    https://scikit-learn.org/stable/modules/linear_model.html#logistic-regression\n",
      "  n_iter_i = _check_optimize_result(\n"
     ]
    }
   ],
   "source": [
    "vo_clf.fit(X_train,y_train)\n",
    "pred=vo_clf.predict(X_test)\n",
    "print(\"보팅 정확도: \",accuracy_score(y_test,pred))"
   ]
  },
  {
   "cell_type": "markdown",
   "metadata": {
    "id": "jH3mZABx81Jx"
   },
   "source": [
    "### 1-2 (4) 개별 모델에 대해 학습/예측/평가를 하시오.(for문 이용할 것) (7점)"
   ]
  },
  {
   "cell_type": "code",
   "execution_count": 9,
   "metadata": {
    "id": "SAFZyxWg82fz"
   },
   "outputs": [
    {
     "name": "stderr",
     "output_type": "stream",
     "text": [
      "C:\\ProgramData\\Anaconda3\\lib\\site-packages\\sklearn\\utils\\validation.py:63: DataConversionWarning: A column-vector y was passed when a 1d array was expected. Please change the shape of y to (n_samples, ), for example using ravel().\n",
      "  return f(*args, **kwargs)\n"
     ]
    },
    {
     "name": "stdout",
     "output_type": "stream",
     "text": [
      "LogisticRegression() 정확도:  1.0\n",
      "KNeighborsClassifier(n_neighbors=8) 정확도:  0.6111111111111112\n"
     ]
    },
    {
     "name": "stderr",
     "output_type": "stream",
     "text": [
      "C:\\ProgramData\\Anaconda3\\lib\\site-packages\\sklearn\\linear_model\\_logistic.py:763: ConvergenceWarning: lbfgs failed to converge (status=1):\n",
      "STOP: TOTAL NO. of ITERATIONS REACHED LIMIT.\n",
      "\n",
      "Increase the number of iterations (max_iter) or scale the data as shown in:\n",
      "    https://scikit-learn.org/stable/modules/preprocessing.html\n",
      "Please also refer to the documentation for alternative solver options:\n",
      "    https://scikit-learn.org/stable/modules/linear_model.html#logistic-regression\n",
      "  n_iter_i = _check_optimize_result(\n",
      "C:\\ProgramData\\Anaconda3\\lib\\site-packages\\sklearn\\neighbors\\_classification.py:179: DataConversionWarning: A column-vector y was passed when a 1d array was expected. Please change the shape of y to (n_samples,), for example using ravel().\n",
      "  return self._fit(X, y)\n"
     ]
    }
   ],
   "source": [
    "classifiers = [lr_clf, knn_clf]\n",
    "for i in classifiers:\n",
    "    i.fit(X_train,y_train)\n",
    "    pred=i.predict(X_test)\n",
    "    print(i, \"정확도: \",accuracy_score(y_test,pred))"
   ]
  },
  {
   "cell_type": "markdown",
   "metadata": {
    "id": "iImJfqqP83n7"
   },
   "source": [
    "## 실습2"
   ]
  },
  {
   "cell_type": "markdown",
   "metadata": {
    "id": "QzTWqveC86x2"
   },
   "source": [
    "### 배깅(랜덤 포레스트) (25점)"
   ]
  },
  {
   "cell_type": "code",
   "execution_count": 10,
   "metadata": {
    "id": "7PwbK1PW86Sb"
   },
   "outputs": [],
   "source": [
    "from sklearn.datasets import load_wine\n",
    "from sklearn.ensemble import RandomForestClassifier\n",
    "from sklearn.metrics import accuracy_score\n",
    "from sklearn.model_selection import train_test_split\n",
    "import pandas as pd\n",
    "import numpy as np"
   ]
  },
  {
   "cell_type": "code",
   "execution_count": 11,
   "metadata": {
    "id": "e3o99E7p9BJ5"
   },
   "outputs": [
    {
     "data": {
      "text/html": [
       "<div>\n",
       "<style scoped>\n",
       "    .dataframe tbody tr th:only-of-type {\n",
       "        vertical-align: middle;\n",
       "    }\n",
       "\n",
       "    .dataframe tbody tr th {\n",
       "        vertical-align: top;\n",
       "    }\n",
       "\n",
       "    .dataframe thead th {\n",
       "        text-align: right;\n",
       "    }\n",
       "</style>\n",
       "<table border=\"1\" class=\"dataframe\">\n",
       "  <thead>\n",
       "    <tr style=\"text-align: right;\">\n",
       "      <th></th>\n",
       "      <th>alcohol</th>\n",
       "      <th>malic_acid</th>\n",
       "      <th>ash</th>\n",
       "      <th>alcalinity_of_ash</th>\n",
       "      <th>magnesium</th>\n",
       "      <th>total_phenols</th>\n",
       "      <th>flavanoids</th>\n",
       "      <th>nonflavanoid_phenols</th>\n",
       "      <th>proanthocyanins</th>\n",
       "      <th>color_intensity</th>\n",
       "      <th>hue</th>\n",
       "      <th>od280/od315_of_diluted_wines</th>\n",
       "      <th>proline</th>\n",
       "      <th>target</th>\n",
       "    </tr>\n",
       "  </thead>\n",
       "  <tbody>\n",
       "    <tr>\n",
       "      <th>0</th>\n",
       "      <td>14.23</td>\n",
       "      <td>1.71</td>\n",
       "      <td>2.43</td>\n",
       "      <td>15.6</td>\n",
       "      <td>127.0</td>\n",
       "      <td>2.80</td>\n",
       "      <td>3.06</td>\n",
       "      <td>0.28</td>\n",
       "      <td>2.29</td>\n",
       "      <td>5.64</td>\n",
       "      <td>1.04</td>\n",
       "      <td>3.92</td>\n",
       "      <td>1065.0</td>\n",
       "      <td>0</td>\n",
       "    </tr>\n",
       "    <tr>\n",
       "      <th>1</th>\n",
       "      <td>13.20</td>\n",
       "      <td>1.78</td>\n",
       "      <td>2.14</td>\n",
       "      <td>11.2</td>\n",
       "      <td>100.0</td>\n",
       "      <td>2.65</td>\n",
       "      <td>2.76</td>\n",
       "      <td>0.26</td>\n",
       "      <td>1.28</td>\n",
       "      <td>4.38</td>\n",
       "      <td>1.05</td>\n",
       "      <td>3.40</td>\n",
       "      <td>1050.0</td>\n",
       "      <td>0</td>\n",
       "    </tr>\n",
       "    <tr>\n",
       "      <th>2</th>\n",
       "      <td>13.16</td>\n",
       "      <td>2.36</td>\n",
       "      <td>2.67</td>\n",
       "      <td>18.6</td>\n",
       "      <td>101.0</td>\n",
       "      <td>2.80</td>\n",
       "      <td>3.24</td>\n",
       "      <td>0.30</td>\n",
       "      <td>2.81</td>\n",
       "      <td>5.68</td>\n",
       "      <td>1.03</td>\n",
       "      <td>3.17</td>\n",
       "      <td>1185.0</td>\n",
       "      <td>0</td>\n",
       "    </tr>\n",
       "  </tbody>\n",
       "</table>\n",
       "</div>"
      ],
      "text/plain": [
       "   alcohol  malic_acid   ash  alcalinity_of_ash  magnesium  total_phenols  \\\n",
       "0    14.23        1.71  2.43               15.6      127.0           2.80   \n",
       "1    13.20        1.78  2.14               11.2      100.0           2.65   \n",
       "2    13.16        2.36  2.67               18.6      101.0           2.80   \n",
       "\n",
       "   flavanoids  nonflavanoid_phenols  proanthocyanins  color_intensity   hue  \\\n",
       "0        3.06                  0.28             2.29             5.64  1.04   \n",
       "1        2.76                  0.26             1.28             4.38  1.05   \n",
       "2        3.24                  0.30             2.81             5.68  1.03   \n",
       "\n",
       "   od280/od315_of_diluted_wines  proline  target  \n",
       "0                          3.92   1065.0       0  \n",
       "1                          3.40   1050.0       0  \n",
       "2                          3.17   1185.0       0  "
      ]
     },
     "execution_count": 11,
     "metadata": {},
     "output_type": "execute_result"
    }
   ],
   "source": [
    "import xgboost as xgb\n",
    "from xgboost import XGBClassifier\n",
    "import pandas as pd\n",
    "import numpy as np\n",
    "from sklearn.datasets import load_wine\n",
    "from sklearn.model_selection import train_test_split\n",
    "from sklearn.metrics import accuracy_score, precision_score, recall_score, f1_score, roc_auc_score\n",
    "import warnings\n",
    "warnings.filterwarnings('ignore')\n",
    "\n",
    "dataset = load_wine()\n",
    "labels = dataset.target\n",
    "wine = pd.DataFrame(data = dataset.data, columns = dataset.feature_names)\n",
    "wine['target'] = labels\n",
    "wine.head(3)"
   ]
  },
  {
   "cell_type": "code",
   "execution_count": 12,
   "metadata": {
    "id": "qsOf4Ljc9CY8"
   },
   "outputs": [],
   "source": [
    "feature = wine.drop(columns = 'target', axis = 1)\n",
    "y = wine.target"
   ]
  },
  {
   "cell_type": "code",
   "execution_count": 13,
   "metadata": {
    "id": "gkc8EQvJ9DF2"
   },
   "outputs": [
    {
     "data": {
      "text/plain": [
       "1    71\n",
       "0    59\n",
       "2    48\n",
       "Name: target, dtype: int64"
      ]
     },
     "execution_count": 13,
     "metadata": {},
     "output_type": "execute_result"
    }
   ],
   "source": [
    "y.value_counts()"
   ]
  },
  {
   "cell_type": "code",
   "execution_count": 14,
   "metadata": {
    "id": "t-a3Z35i9D8M"
   },
   "outputs": [],
   "source": [
    "X_train, X_test, y_train, y_test = train_test_split(feature, y, test_size=0.2, random_state=10)"
   ]
  },
  {
   "cell_type": "markdown",
   "metadata": {
    "id": "SAhJnxGy9AUA"
   },
   "source": [
    "### 2-1 빈칸에 들어갈 말은 무엇일까요? (3점)\n",
    "랜덤 포레스트는 여러 개의 데이터 세트를 중첩되게 분리하는 _____  분할 방식을 사용한다."
   ]
  },
  {
   "cell_type": "code",
   "execution_count": 15,
   "metadata": {
    "id": "e2aw1f9u9Gn6"
   },
   "outputs": [],
   "source": [
    "# 답 : 부트스트래핑"
   ]
  },
  {
   "cell_type": "markdown",
   "metadata": {
    "id": "gqYUhx1v9I4P"
   },
   "source": [
    "### 2-2 wine 데이터를 RandomForestClassifier에 적합시키고 성능을 측정하세요. (7점)\n",
    "    - fit, predict, accuracy_score 이용  \n",
    "    - random_state=0, max_depth=3 으로 설정"
   ]
  },
  {
   "cell_type": "code",
   "execution_count": 16,
   "metadata": {
    "id": "fIdDRggE9Jgi"
   },
   "outputs": [
    {
     "name": "stdout",
     "output_type": "stream",
     "text": [
      "rf 정확도:  0.8888888888888888\n"
     ]
    }
   ],
   "source": [
    "rf=RandomForestClassifier(random_state=0, max_depth=3)\n",
    "rf.fit(X_train,y_train)\n",
    "pred=rf.predict(X_test)\n",
    "print(\"rf 정확도: \", accuracy_score(y_test,pred))"
   ]
  },
  {
   "cell_type": "markdown",
   "metadata": {
    "id": "Xon8Czww9N9N"
   },
   "source": [
    "### 2-3 예측값과 실제값을 이용하여 오차행렬을 출력하세요. (3점)"
   ]
  },
  {
   "cell_type": "code",
   "execution_count": 19,
   "metadata": {
    "id": "Czc2mtST-9c4"
   },
   "outputs": [
    {
     "data": {
      "text/plain": [
       "array([[10,  0,  0],\n",
       "       [ 1, 14,  3],\n",
       "       [ 0,  0,  8]], dtype=int64)"
      ]
     },
     "execution_count": 19,
     "metadata": {},
     "output_type": "execute_result"
    }
   ],
   "source": [
    "from sklearn.metrics import confusion_matrix\n",
    "confusion_matrix(y_test,pred)"
   ]
  },
  {
   "cell_type": "markdown",
   "metadata": {
    "id": "HPdtorUR9P1k"
   },
   "source": [
    "### 2-4 GridSearchCV를 이용하여 최적하이퍼파라미터를 찾고 출력해보세요. (7점)\n",
    "    - 폴드 개수는 3으로 설정"
   ]
  },
  {
   "cell_type": "code",
   "execution_count": 24,
   "metadata": {
    "id": "23wuqZLf9OOT"
   },
   "outputs": [
    {
     "name": "stdout",
     "output_type": "stream",
     "text": [
      "{'max_depth': 5}\n"
     ]
    }
   ],
   "source": [
    "from sklearn.model_selection import GridSearchCV\n",
    "\n",
    "parameters={'max_depth':[3,4,5]}    #숫자는 자유\n",
    "grid=GridSearchCV(rf,param_grid=parameters,cv=3,refit=True)\n",
    "grid.fit(X_train,y_train)\n",
    "print(grid.best_params_)"
   ]
  },
  {
   "cell_type": "markdown",
   "metadata": {
    "id": "CiPJ9dXv9SQ1"
   },
   "source": [
    "### 2-5 최적하이퍼파라미터로 RandomForestClassifier를 다시 학습시키고 성능을 측정하세요. (5점)"
   ]
  },
  {
   "cell_type": "code",
   "execution_count": 25,
   "metadata": {
    "id": "fjV_AfF19Sfa"
   },
   "outputs": [
    {
     "name": "stdout",
     "output_type": "stream",
     "text": [
      "rf 정확도:  0.9444444444444444\n"
     ]
    }
   ],
   "source": [
    "rf=RandomForestClassifier(random_state=0, max_depth=5)\n",
    "rf.fit(X_train,y_train)\n",
    "pred=rf.predict(X_test)\n",
    "print(\"rf 정확도: \", accuracy_score(y_test,pred))"
   ]
  },
  {
   "cell_type": "markdown",
   "metadata": {
    "id": "YF4D_Qzx_CMJ"
   },
   "source": [
    "# 실습3"
   ]
  },
  {
   "cell_type": "markdown",
   "metadata": {
    "id": "tQPbkj139T-s"
   },
   "source": [
    "# XGBoost (25점)"
   ]
  },
  {
   "cell_type": "code",
   "execution_count": 26,
   "metadata": {
    "id": "_pzR_wkX9UQS"
   },
   "outputs": [
    {
     "data": {
      "text/html": [
       "<div>\n",
       "<style scoped>\n",
       "    .dataframe tbody tr th:only-of-type {\n",
       "        vertical-align: middle;\n",
       "    }\n",
       "\n",
       "    .dataframe tbody tr th {\n",
       "        vertical-align: top;\n",
       "    }\n",
       "\n",
       "    .dataframe thead th {\n",
       "        text-align: right;\n",
       "    }\n",
       "</style>\n",
       "<table border=\"1\" class=\"dataframe\">\n",
       "  <thead>\n",
       "    <tr style=\"text-align: right;\">\n",
       "      <th></th>\n",
       "      <th>alcohol</th>\n",
       "      <th>malic_acid</th>\n",
       "      <th>ash</th>\n",
       "      <th>alcalinity_of_ash</th>\n",
       "      <th>magnesium</th>\n",
       "      <th>total_phenols</th>\n",
       "      <th>flavanoids</th>\n",
       "      <th>nonflavanoid_phenols</th>\n",
       "      <th>proanthocyanins</th>\n",
       "      <th>color_intensity</th>\n",
       "      <th>hue</th>\n",
       "      <th>od280/od315_of_diluted_wines</th>\n",
       "      <th>proline</th>\n",
       "      <th>target</th>\n",
       "    </tr>\n",
       "  </thead>\n",
       "  <tbody>\n",
       "    <tr>\n",
       "      <th>0</th>\n",
       "      <td>14.23</td>\n",
       "      <td>1.71</td>\n",
       "      <td>2.43</td>\n",
       "      <td>15.6</td>\n",
       "      <td>127.0</td>\n",
       "      <td>2.80</td>\n",
       "      <td>3.06</td>\n",
       "      <td>0.28</td>\n",
       "      <td>2.29</td>\n",
       "      <td>5.64</td>\n",
       "      <td>1.04</td>\n",
       "      <td>3.92</td>\n",
       "      <td>1065.0</td>\n",
       "      <td>0</td>\n",
       "    </tr>\n",
       "    <tr>\n",
       "      <th>1</th>\n",
       "      <td>13.20</td>\n",
       "      <td>1.78</td>\n",
       "      <td>2.14</td>\n",
       "      <td>11.2</td>\n",
       "      <td>100.0</td>\n",
       "      <td>2.65</td>\n",
       "      <td>2.76</td>\n",
       "      <td>0.26</td>\n",
       "      <td>1.28</td>\n",
       "      <td>4.38</td>\n",
       "      <td>1.05</td>\n",
       "      <td>3.40</td>\n",
       "      <td>1050.0</td>\n",
       "      <td>0</td>\n",
       "    </tr>\n",
       "    <tr>\n",
       "      <th>2</th>\n",
       "      <td>13.16</td>\n",
       "      <td>2.36</td>\n",
       "      <td>2.67</td>\n",
       "      <td>18.6</td>\n",
       "      <td>101.0</td>\n",
       "      <td>2.80</td>\n",
       "      <td>3.24</td>\n",
       "      <td>0.30</td>\n",
       "      <td>2.81</td>\n",
       "      <td>5.68</td>\n",
       "      <td>1.03</td>\n",
       "      <td>3.17</td>\n",
       "      <td>1185.0</td>\n",
       "      <td>0</td>\n",
       "    </tr>\n",
       "  </tbody>\n",
       "</table>\n",
       "</div>"
      ],
      "text/plain": [
       "   alcohol  malic_acid   ash  alcalinity_of_ash  magnesium  total_phenols  \\\n",
       "0    14.23        1.71  2.43               15.6      127.0           2.80   \n",
       "1    13.20        1.78  2.14               11.2      100.0           2.65   \n",
       "2    13.16        2.36  2.67               18.6      101.0           2.80   \n",
       "\n",
       "   flavanoids  nonflavanoid_phenols  proanthocyanins  color_intensity   hue  \\\n",
       "0        3.06                  0.28             2.29             5.64  1.04   \n",
       "1        2.76                  0.26             1.28             4.38  1.05   \n",
       "2        3.24                  0.30             2.81             5.68  1.03   \n",
       "\n",
       "   od280/od315_of_diluted_wines  proline  target  \n",
       "0                          3.92   1065.0       0  \n",
       "1                          3.40   1050.0       0  \n",
       "2                          3.17   1185.0       0  "
      ]
     },
     "execution_count": 26,
     "metadata": {},
     "output_type": "execute_result"
    }
   ],
   "source": [
    "import xgboost as xgb\n",
    "from xgboost import XGBClassifier\n",
    "import pandas as pd\n",
    "import numpy as np\n",
    "from sklearn.datasets import load_wine\n",
    "from sklearn.model_selection import train_test_split\n",
    "from sklearn.metrics import accuracy_score, precision_score, recall_score, f1_score, roc_auc_score\n",
    "import warnings\n",
    "warnings.filterwarnings('ignore')\n",
    "\n",
    "dataset = load_wine()\n",
    "labels = dataset.target\n",
    "wine = pd.DataFrame(data = dataset.data, columns = dataset.feature_names)\n",
    "wine['target'] = labels\n",
    "wine.head(3)"
   ]
  },
  {
   "cell_type": "markdown",
   "metadata": {
    "id": "pEQx7qqu9XPC"
   },
   "source": [
    "## Columns 설명\n",
    "- 알콜(Alcohol)\n",
    "- 말산(Malic acid)\n",
    "- 회분(Ash)\n",
    "- 회분의 알칼리도(Alcalinity of ash)\n",
    "- 마그네슘(Magnesium)\n",
    "- 총 폴리페놀(Total phenols)\n",
    "- 플라보노이드 폴리페놀(Flavanoids)\n",
    "- 비 플라보노이드 폴리페놀(Nonflavanoid phenols)\n",
    "- 프로안토시아닌(Proanthocyanins)\n",
    "- 색상의 강도(Color intensity)\n",
    "- 색상(Hue)\n",
    "- 희석 와인의 OD280/OD315 비율 (OD280/OD315 of diluted wines)\n",
    "- 프롤린(Proline)\n",
    "- 와인 종류(target)"
   ]
  },
  {
   "cell_type": "code",
   "execution_count": 27,
   "metadata": {
    "id": "IuiTcXf3_F3L"
   },
   "outputs": [],
   "source": [
    "feature = wine.drop(columns = 'target', axis = 1)\n",
    "y = wine.target"
   ]
  },
  {
   "cell_type": "markdown",
   "metadata": {
    "id": "NHSRSIz__Fo5"
   },
   "source": [
    "### 3-1 wine 데이터를 xgbclassifier에 적합시키고 accuracy_score를 이용해 점수를 내세요 (6점)"
   ]
  },
  {
   "cell_type": "code",
   "execution_count": 28,
   "metadata": {
    "id": "2lZbB4FJ_LpZ"
   },
   "outputs": [],
   "source": [
    "X_train, X_test, y_train, y_test = train_test_split(feature, y, test_size=0.3, random_state=1)\n",
    "xgb = XGBClassifier(n_estimators = 400, learning_rate = 0.5, max_depth = 3)"
   ]
  },
  {
   "cell_type": "code",
   "execution_count": 33,
   "metadata": {
    "id": "skYpGBEy_NtK"
   },
   "outputs": [
    {
     "name": "stdout",
     "output_type": "stream",
     "text": [
      "[13:49:42] WARNING: ..\\src\\learner.cc:1115: Starting in XGBoost 1.3.0, the default evaluation metric used with the objective 'multi:softprob' was changed from 'merror' to 'mlogloss'. Explicitly set eval_metric if you'd like to restore the old behavior.\n",
      "0.963\n"
     ]
    }
   ],
   "source": [
    "xgb.fit(X_train,y_train)\n",
    "pred=xgb.predict(X_test)\n",
    "print(np.round(accuracy_score(y_test,pred),4))"
   ]
  },
  {
   "cell_type": "markdown",
   "metadata": {
    "id": "sQdQipGt_OAL"
   },
   "source": [
    "### 3-2 gridsearch를 이용해서 자유롭게 파라미터 설정하면서 점수를 높여보세요 (6점)\n",
    "- 다음은 XGBClassifier의 주요 파라미터입니다. 되도록 0.97이상 점수가 나오게 설정해주세요\n",
    "|주요파라미터|범위|설명|\n",
    "|---|---|---|\n",
    "|max_depth|0 ~ ∞|트리의 최대깊이 / 수가 커지면 복잡해지고 과적합 가능성▲|\n",
    "|learning_rate|0 ~ 1|학습률 / 커지면 업데이트 속도▲|\n",
    "|subsample|0 ~ 1|학습 시 데이터 샘플링 비율 지정 / 일반적으로 0.5 ~ 1 사이의 값을 가짐|"
   ]
  },
  {
   "cell_type": "code",
   "execution_count": 34,
   "metadata": {
    "id": "dw0Ei4r2_ReR",
    "scrolled": true
   },
   "outputs": [
    {
     "name": "stdout",
     "output_type": "stream",
     "text": [
      "[13:51:21] WARNING: ..\\src\\learner.cc:1115: Starting in XGBoost 1.3.0, the default evaluation metric used with the objective 'multi:softprob' was changed from 'merror' to 'mlogloss'. Explicitly set eval_metric if you'd like to restore the old behavior.\n",
      "[13:51:21] WARNING: ..\\src\\learner.cc:1115: Starting in XGBoost 1.3.0, the default evaluation metric used with the objective 'multi:softprob' was changed from 'merror' to 'mlogloss'. Explicitly set eval_metric if you'd like to restore the old behavior.\n",
      "[13:51:22] WARNING: ..\\src\\learner.cc:1115: Starting in XGBoost 1.3.0, the default evaluation metric used with the objective 'multi:softprob' was changed from 'merror' to 'mlogloss'. Explicitly set eval_metric if you'd like to restore the old behavior.\n",
      "[13:51:22] WARNING: ..\\src\\learner.cc:1115: Starting in XGBoost 1.3.0, the default evaluation metric used with the objective 'multi:softprob' was changed from 'merror' to 'mlogloss'. Explicitly set eval_metric if you'd like to restore the old behavior.\n",
      "[13:51:23] WARNING: ..\\src\\learner.cc:1115: Starting in XGBoost 1.3.0, the default evaluation metric used with the objective 'multi:softprob' was changed from 'merror' to 'mlogloss'. Explicitly set eval_metric if you'd like to restore the old behavior.\n",
      "[13:51:23] WARNING: ..\\src\\learner.cc:1115: Starting in XGBoost 1.3.0, the default evaluation metric used with the objective 'multi:softprob' was changed from 'merror' to 'mlogloss'. Explicitly set eval_metric if you'd like to restore the old behavior.\n",
      "[13:51:24] WARNING: ..\\src\\learner.cc:1115: Starting in XGBoost 1.3.0, the default evaluation metric used with the objective 'multi:softprob' was changed from 'merror' to 'mlogloss'. Explicitly set eval_metric if you'd like to restore the old behavior.\n",
      "[13:51:24] WARNING: ..\\src\\learner.cc:1115: Starting in XGBoost 1.3.0, the default evaluation metric used with the objective 'multi:softprob' was changed from 'merror' to 'mlogloss'. Explicitly set eval_metric if you'd like to restore the old behavior.\n",
      "[13:51:25] WARNING: ..\\src\\learner.cc:1115: Starting in XGBoost 1.3.0, the default evaluation metric used with the objective 'multi:softprob' was changed from 'merror' to 'mlogloss'. Explicitly set eval_metric if you'd like to restore the old behavior.\n",
      "[13:51:25] WARNING: ..\\src\\learner.cc:1115: Starting in XGBoost 1.3.0, the default evaluation metric used with the objective 'multi:softprob' was changed from 'merror' to 'mlogloss'. Explicitly set eval_metric if you'd like to restore the old behavior.\n",
      "[13:51:26] WARNING: ..\\src\\learner.cc:1115: Starting in XGBoost 1.3.0, the default evaluation metric used with the objective 'multi:softprob' was changed from 'merror' to 'mlogloss'. Explicitly set eval_metric if you'd like to restore the old behavior.\n",
      "[13:51:26] WARNING: ..\\src\\learner.cc:1115: Starting in XGBoost 1.3.0, the default evaluation metric used with the objective 'multi:softprob' was changed from 'merror' to 'mlogloss'. Explicitly set eval_metric if you'd like to restore the old behavior.\n",
      "[13:51:27] WARNING: ..\\src\\learner.cc:1115: Starting in XGBoost 1.3.0, the default evaluation metric used with the objective 'multi:softprob' was changed from 'merror' to 'mlogloss'. Explicitly set eval_metric if you'd like to restore the old behavior.\n",
      "[13:51:27] WARNING: ..\\src\\learner.cc:1115: Starting in XGBoost 1.3.0, the default evaluation metric used with the objective 'multi:softprob' was changed from 'merror' to 'mlogloss'. Explicitly set eval_metric if you'd like to restore the old behavior.\n",
      "[13:51:28] WARNING: ..\\src\\learner.cc:1115: Starting in XGBoost 1.3.0, the default evaluation metric used with the objective 'multi:softprob' was changed from 'merror' to 'mlogloss'. Explicitly set eval_metric if you'd like to restore the old behavior.\n",
      "[13:51:28] WARNING: ..\\src\\learner.cc:1115: Starting in XGBoost 1.3.0, the default evaluation metric used with the objective 'multi:softprob' was changed from 'merror' to 'mlogloss'. Explicitly set eval_metric if you'd like to restore the old behavior.\n",
      "[13:51:29] WARNING: ..\\src\\learner.cc:1115: Starting in XGBoost 1.3.0, the default evaluation metric used with the objective 'multi:softprob' was changed from 'merror' to 'mlogloss'. Explicitly set eval_metric if you'd like to restore the old behavior.\n",
      "[13:51:29] WARNING: ..\\src\\learner.cc:1115: Starting in XGBoost 1.3.0, the default evaluation metric used with the objective 'multi:softprob' was changed from 'merror' to 'mlogloss'. Explicitly set eval_metric if you'd like to restore the old behavior.\n",
      "[13:51:30] WARNING: ..\\src\\learner.cc:1115: Starting in XGBoost 1.3.0, the default evaluation metric used with the objective 'multi:softprob' was changed from 'merror' to 'mlogloss'. Explicitly set eval_metric if you'd like to restore the old behavior.\n",
      "[13:51:31] WARNING: ..\\src\\learner.cc:1115: Starting in XGBoost 1.3.0, the default evaluation metric used with the objective 'multi:softprob' was changed from 'merror' to 'mlogloss'. Explicitly set eval_metric if you'd like to restore the old behavior.\n",
      "[13:51:31] WARNING: ..\\src\\learner.cc:1115: Starting in XGBoost 1.3.0, the default evaluation metric used with the objective 'multi:softprob' was changed from 'merror' to 'mlogloss'. Explicitly set eval_metric if you'd like to restore the old behavior.\n",
      "[13:51:32] WARNING: ..\\src\\learner.cc:1115: Starting in XGBoost 1.3.0, the default evaluation metric used with the objective 'multi:softprob' was changed from 'merror' to 'mlogloss'. Explicitly set eval_metric if you'd like to restore the old behavior.\n",
      "[13:51:32] WARNING: ..\\src\\learner.cc:1115: Starting in XGBoost 1.3.0, the default evaluation metric used with the objective 'multi:softprob' was changed from 'merror' to 'mlogloss'. Explicitly set eval_metric if you'd like to restore the old behavior.\n",
      "[13:51:32] WARNING: ..\\src\\learner.cc:1115: Starting in XGBoost 1.3.0, the default evaluation metric used with the objective 'multi:softprob' was changed from 'merror' to 'mlogloss'. Explicitly set eval_metric if you'd like to restore the old behavior.\n",
      "[13:51:33] WARNING: ..\\src\\learner.cc:1115: Starting in XGBoost 1.3.0, the default evaluation metric used with the objective 'multi:softprob' was changed from 'merror' to 'mlogloss'. Explicitly set eval_metric if you'd like to restore the old behavior.\n",
      "[13:51:33] WARNING: ..\\src\\learner.cc:1115: Starting in XGBoost 1.3.0, the default evaluation metric used with the objective 'multi:softprob' was changed from 'merror' to 'mlogloss'. Explicitly set eval_metric if you'd like to restore the old behavior.\n",
      "[13:51:34] WARNING: ..\\src\\learner.cc:1115: Starting in XGBoost 1.3.0, the default evaluation metric used with the objective 'multi:softprob' was changed from 'merror' to 'mlogloss'. Explicitly set eval_metric if you'd like to restore the old behavior.\n",
      "[13:51:35] WARNING: ..\\src\\learner.cc:1115: Starting in XGBoost 1.3.0, the default evaluation metric used with the objective 'multi:softprob' was changed from 'merror' to 'mlogloss'. Explicitly set eval_metric if you'd like to restore the old behavior.\n",
      "[13:51:35] WARNING: ..\\src\\learner.cc:1115: Starting in XGBoost 1.3.0, the default evaluation metric used with the objective 'multi:softprob' was changed from 'merror' to 'mlogloss'. Explicitly set eval_metric if you'd like to restore the old behavior.\n",
      "[13:51:36] WARNING: ..\\src\\learner.cc:1115: Starting in XGBoost 1.3.0, the default evaluation metric used with the objective 'multi:softprob' was changed from 'merror' to 'mlogloss'. Explicitly set eval_metric if you'd like to restore the old behavior.\n",
      "[13:51:36] WARNING: ..\\src\\learner.cc:1115: Starting in XGBoost 1.3.0, the default evaluation metric used with the objective 'multi:softprob' was changed from 'merror' to 'mlogloss'. Explicitly set eval_metric if you'd like to restore the old behavior.\n",
      "[13:51:36] WARNING: ..\\src\\learner.cc:1115: Starting in XGBoost 1.3.0, the default evaluation metric used with the objective 'multi:softprob' was changed from 'merror' to 'mlogloss'. Explicitly set eval_metric if you'd like to restore the old behavior.\n",
      "[13:51:37] WARNING: ..\\src\\learner.cc:1115: Starting in XGBoost 1.3.0, the default evaluation metric used with the objective 'multi:softprob' was changed from 'merror' to 'mlogloss'. Explicitly set eval_metric if you'd like to restore the old behavior.\n"
     ]
    },
    {
     "name": "stdout",
     "output_type": "stream",
     "text": [
      "[13:51:37] WARNING: ..\\src\\learner.cc:1115: Starting in XGBoost 1.3.0, the default evaluation metric used with the objective 'multi:softprob' was changed from 'merror' to 'mlogloss'. Explicitly set eval_metric if you'd like to restore the old behavior.\n",
      "[13:51:38] WARNING: ..\\src\\learner.cc:1115: Starting in XGBoost 1.3.0, the default evaluation metric used with the objective 'multi:softprob' was changed from 'merror' to 'mlogloss'. Explicitly set eval_metric if you'd like to restore the old behavior.\n",
      "[13:51:38] WARNING: ..\\src\\learner.cc:1115: Starting in XGBoost 1.3.0, the default evaluation metric used with the objective 'multi:softprob' was changed from 'merror' to 'mlogloss'. Explicitly set eval_metric if you'd like to restore the old behavior.\n",
      "[13:51:39] WARNING: ..\\src\\learner.cc:1115: Starting in XGBoost 1.3.0, the default evaluation metric used with the objective 'multi:softprob' was changed from 'merror' to 'mlogloss'. Explicitly set eval_metric if you'd like to restore the old behavior.\n",
      "GridSearchCV 최적의 파라미터: {'learning_rate': 0.1, 'max_depth': 4, 'subsample': 0.6}\n",
      "GridSearchCV 최적의 정확도:0.9837\n"
     ]
    }
   ],
   "source": [
    "from sklearn.model_selection import GridSearchCV\n",
    "\n",
    "params = {'max_depth' : [4,5,6],\n",
    "          'learning_rate' : [0.05,0.1],\n",
    "          'subsample' : [0.6,0.7]}\n",
    "\n",
    "grid_xgb = GridSearchCV(xgb, param_grid = params, cv = 3, refit = True)\n",
    "grid_xgb.fit(X_train, y_train)\n",
    "\n",
    "print('GridSearchCV 최적의 파라미터:', grid_xgb.best_params_)\n",
    "print('GridSearchCV 최적의 정확도:{0:.4f}'.format(grid_xgb.best_score_))"
   ]
  },
  {
   "cell_type": "markdown",
   "metadata": {
    "id": "GbJ_1Vj__TdH"
   },
   "source": [
    "### 3-3 early_stopping_rounds 설정 (7점)\n",
    "- XGBClassifier는 조기 중단을 할 수 있습니다. early_stopping_rounds 파라미터를 임의로 설정해 조기 중단해주세요.\n",
    "\n",
    "- early_stopping_rounds는 validation_1-mlogloss의 값이 최소값일 때 추가로 n번을 더 실시하고 그럼에도 불구하고 점수가 오르지 않으면 학습이 조기 종료되는 특징을 가지고 있습니다. 설정한 n값만큼 반복했는지 확인해주세요."
   ]
  },
  {
   "cell_type": "code",
   "execution_count": 43,
   "metadata": {
    "id": "AjNzxeVo_WML",
    "scrolled": true
   },
   "outputs": [
    {
     "name": "stdout",
     "output_type": "stream",
     "text": [
      "[0]\tvalidation_0-mlogloss:0.55745\tvalidation_1-mlogloss:0.59482\n",
      "[1]\tvalidation_0-mlogloss:0.32698\tvalidation_1-mlogloss:0.37759\n",
      "[2]\tvalidation_0-mlogloss:0.20214\tvalidation_1-mlogloss:0.25890\n",
      "[3]\tvalidation_0-mlogloss:0.13034\tvalidation_1-mlogloss:0.19014\n",
      "[4]\tvalidation_0-mlogloss:0.08766\tvalidation_1-mlogloss:0.14453\n",
      "[5]\tvalidation_0-mlogloss:0.06113\tvalidation_1-mlogloss:0.11933\n",
      "[6]\tvalidation_0-mlogloss:0.04530\tvalidation_1-mlogloss:0.10537\n",
      "[7]\tvalidation_0-mlogloss:0.03470\tvalidation_1-mlogloss:0.09035\n",
      "[8]\tvalidation_0-mlogloss:0.02709\tvalidation_1-mlogloss:0.08565\n",
      "[9]\tvalidation_0-mlogloss:0.02235\tvalidation_1-mlogloss:0.08144\n",
      "[10]\tvalidation_0-mlogloss:0.01912\tvalidation_1-mlogloss:0.08141\n",
      "[11]\tvalidation_0-mlogloss:0.01645\tvalidation_1-mlogloss:0.07856\n",
      "[12]\tvalidation_0-mlogloss:0.01457\tvalidation_1-mlogloss:0.07699\n",
      "[13]\tvalidation_0-mlogloss:0.01320\tvalidation_1-mlogloss:0.07501\n",
      "[14]\tvalidation_0-mlogloss:0.01283\tvalidation_1-mlogloss:0.07516\n",
      "[15]\tvalidation_0-mlogloss:0.01253\tvalidation_1-mlogloss:0.07366\n",
      "[16]\tvalidation_0-mlogloss:0.01230\tvalidation_1-mlogloss:0.07231\n",
      "[17]\tvalidation_0-mlogloss:0.01210\tvalidation_1-mlogloss:0.07027\n",
      "[18]\tvalidation_0-mlogloss:0.01192\tvalidation_1-mlogloss:0.07110\n",
      "[19]\tvalidation_0-mlogloss:0.01175\tvalidation_1-mlogloss:0.07027\n",
      "[20]\tvalidation_0-mlogloss:0.01160\tvalidation_1-mlogloss:0.06865\n",
      "[21]\tvalidation_0-mlogloss:0.01147\tvalidation_1-mlogloss:0.06956\n",
      "[22]\tvalidation_0-mlogloss:0.01137\tvalidation_1-mlogloss:0.07037\n",
      "[23]\tvalidation_0-mlogloss:0.01126\tvalidation_1-mlogloss:0.06906\n",
      "[24]\tvalidation_0-mlogloss:0.01117\tvalidation_1-mlogloss:0.06763\n",
      "[25]\tvalidation_0-mlogloss:0.01109\tvalidation_1-mlogloss:0.06843\n",
      "[26]\tvalidation_0-mlogloss:0.01109\tvalidation_1-mlogloss:0.06835\n",
      "[27]\tvalidation_0-mlogloss:0.01109\tvalidation_1-mlogloss:0.06828\n",
      "[28]\tvalidation_0-mlogloss:0.01108\tvalidation_1-mlogloss:0.06823\n",
      "[29]\tvalidation_0-mlogloss:0.01108\tvalidation_1-mlogloss:0.06819\n",
      "[30]\tvalidation_0-mlogloss:0.01108\tvalidation_1-mlogloss:0.06816\n",
      "[31]\tvalidation_0-mlogloss:0.01108\tvalidation_1-mlogloss:0.06813\n",
      "[32]\tvalidation_0-mlogloss:0.01108\tvalidation_1-mlogloss:0.06812\n",
      "[33]\tvalidation_0-mlogloss:0.01108\tvalidation_1-mlogloss:0.06810\n",
      "[34]\tvalidation_0-mlogloss:0.01108\tvalidation_1-mlogloss:0.06809\n",
      "[35]\tvalidation_0-mlogloss:0.01108\tvalidation_1-mlogloss:0.06808\n",
      "[36]\tvalidation_0-mlogloss:0.01108\tvalidation_1-mlogloss:0.06808\n",
      "[37]\tvalidation_0-mlogloss:0.01108\tvalidation_1-mlogloss:0.06807\n",
      "[38]\tvalidation_0-mlogloss:0.01108\tvalidation_1-mlogloss:0.06807\n",
      "[39]\tvalidation_0-mlogloss:0.01108\tvalidation_1-mlogloss:0.06806\n",
      "[40]\tvalidation_0-mlogloss:0.01108\tvalidation_1-mlogloss:0.06806\n",
      "[41]\tvalidation_0-mlogloss:0.01108\tvalidation_1-mlogloss:0.06806\n",
      "[42]\tvalidation_0-mlogloss:0.01108\tvalidation_1-mlogloss:0.06806\n",
      "[43]\tvalidation_0-mlogloss:0.01108\tvalidation_1-mlogloss:0.06806\n",
      "[44]\tvalidation_0-mlogloss:0.01108\tvalidation_1-mlogloss:0.06806\n",
      "[45]\tvalidation_0-mlogloss:0.01108\tvalidation_1-mlogloss:0.06806\n",
      "[46]\tvalidation_0-mlogloss:0.01108\tvalidation_1-mlogloss:0.06806\n",
      "[47]\tvalidation_0-mlogloss:0.01108\tvalidation_1-mlogloss:0.06806\n",
      "[48]\tvalidation_0-mlogloss:0.01108\tvalidation_1-mlogloss:0.06806\n",
      "[49]\tvalidation_0-mlogloss:0.01108\tvalidation_1-mlogloss:0.06806\n",
      "[50]\tvalidation_0-mlogloss:0.01108\tvalidation_1-mlogloss:0.06806\n",
      "[51]\tvalidation_0-mlogloss:0.01108\tvalidation_1-mlogloss:0.06805\n",
      "[52]\tvalidation_0-mlogloss:0.01108\tvalidation_1-mlogloss:0.06805\n",
      "[53]\tvalidation_0-mlogloss:0.01108\tvalidation_1-mlogloss:0.06805\n",
      "[54]\tvalidation_0-mlogloss:0.01108\tvalidation_1-mlogloss:0.06805\n",
      "[55]\tvalidation_0-mlogloss:0.01108\tvalidation_1-mlogloss:0.06805\n",
      "[56]\tvalidation_0-mlogloss:0.01108\tvalidation_1-mlogloss:0.06805\n",
      "[57]\tvalidation_0-mlogloss:0.01108\tvalidation_1-mlogloss:0.06805\n",
      "[58]\tvalidation_0-mlogloss:0.01108\tvalidation_1-mlogloss:0.06805\n",
      "[59]\tvalidation_0-mlogloss:0.01108\tvalidation_1-mlogloss:0.06805\n",
      "[60]\tvalidation_0-mlogloss:0.01108\tvalidation_1-mlogloss:0.06805\n",
      "[61]\tvalidation_0-mlogloss:0.01108\tvalidation_1-mlogloss:0.06805\n",
      "[62]\tvalidation_0-mlogloss:0.01108\tvalidation_1-mlogloss:0.06805\n",
      "[63]\tvalidation_0-mlogloss:0.01108\tvalidation_1-mlogloss:0.06805\n",
      "[64]\tvalidation_0-mlogloss:0.01108\tvalidation_1-mlogloss:0.06805\n",
      "[65]\tvalidation_0-mlogloss:0.01108\tvalidation_1-mlogloss:0.06805\n",
      "[66]\tvalidation_0-mlogloss:0.01108\tvalidation_1-mlogloss:0.06805\n",
      "[67]\tvalidation_0-mlogloss:0.01108\tvalidation_1-mlogloss:0.06805\n",
      "[68]\tvalidation_0-mlogloss:0.01108\tvalidation_1-mlogloss:0.06805\n",
      "[69]\tvalidation_0-mlogloss:0.01108\tvalidation_1-mlogloss:0.06805\n",
      "[70]\tvalidation_0-mlogloss:0.01108\tvalidation_1-mlogloss:0.06805\n",
      "[71]\tvalidation_0-mlogloss:0.01108\tvalidation_1-mlogloss:0.06805\n",
      "[72]\tvalidation_0-mlogloss:0.01108\tvalidation_1-mlogloss:0.06805\n",
      "[73]\tvalidation_0-mlogloss:0.01108\tvalidation_1-mlogloss:0.06805\n",
      "[74]\tvalidation_0-mlogloss:0.01108\tvalidation_1-mlogloss:0.06805\n"
     ]
    }
   ],
   "source": [
    "xgb = XGBClassifier(n_estimators = 400, learning_rate = 0.5, max_depth = 10)\n",
    "evals = [(X_train, y_train), (X_test, y_test)]\n",
    "\n",
    "xgb.fit(X_train , y_train,  early_stopping_rounds=50,eval_set=evals,eval_metric=\"mlogloss\", verbose=True)\n",
    "\n",
    "y_preds = xgb.predict(X_test)\n",
    "y_pred_proba = xgb.predict_proba(X_test)[:, 1]"
   ]
  },
  {
   "cell_type": "markdown",
   "metadata": {
    "id": "wPx7NZrL_YFO"
   },
   "source": [
    "### 3-4 plot_importance 시각화 (6점)\n",
    "- plot_importance()를 이용하여 feature의 중요도를 시각화해주세요"
   ]
  },
  {
   "cell_type": "code",
   "execution_count": 39,
   "metadata": {
    "id": "8_XVyYlR_bIb"
   },
   "outputs": [
    {
     "data": {
      "text/plain": [
       "<AxesSubplot:title={'center':'Feature importance'}, xlabel='F score', ylabel='Features'>"
      ]
     },
     "execution_count": 39,
     "metadata": {},
     "output_type": "execute_result"
    },
    {
     "data": {
      "image/png": "[encoded data removed]",
      "text/plain": [
       "<Figure size 720x864 with 1 Axes>"
      ]
     },
     "metadata": {
      "needs_background": "light"
     },
     "output_type": "display_data"
    }
   ],
   "source": [
    "from xgboost import plot_importance\n",
    "import matplotlib.pyplot as plt\n",
    "%matplotlib inline\n",
    "\n",
    "fig,ax=plt.subplots(figsize=(10,12))\n",
    "plot_importance(xgb,ax=ax)"
   ]
  },
  {
   "cell_type": "markdown",
   "metadata": {
    "id": "xGWKxmSb_d1R"
   },
   "source": [
    "## 실습4"
   ]
  },
  {
   "cell_type": "markdown",
   "metadata": {
    "id": "8cvuuokV_gdk"
   },
   "source": [
    "## LightGBM(25점)"
   ]
  },
  {
   "cell_type": "code",
   "execution_count": 40,
   "metadata": {
    "id": "dtdv3yin_fTb"
   },
   "outputs": [
    {
     "data": {
      "text/html": [
       "<div>\n",
       "<style scoped>\n",
       "    .dataframe tbody tr th:only-of-type {\n",
       "        vertical-align: middle;\n",
       "    }\n",
       "\n",
       "    .dataframe tbody tr th {\n",
       "        vertical-align: top;\n",
       "    }\n",
       "\n",
       "    .dataframe thead tr th {\n",
       "        text-align: left;\n",
       "    }\n",
       "</style>\n",
       "<table border=\"1\" class=\"dataframe\">\n",
       "  <thead>\n",
       "    <tr>\n",
       "      <th></th>\n",
       "      <th>alcohol</th>\n",
       "      <th>malic_acid</th>\n",
       "      <th>ash</th>\n",
       "      <th>alcalinity_of_ash</th>\n",
       "      <th>magnesium</th>\n",
       "      <th>total_phenols</th>\n",
       "      <th>flavanoids</th>\n",
       "      <th>nonflavanoid_phenols</th>\n",
       "      <th>proanthocyanins</th>\n",
       "      <th>color_intensity</th>\n",
       "      <th>hue</th>\n",
       "      <th>od280/od315_of_diluted_wines</th>\n",
       "      <th>proline</th>\n",
       "      <th>target</th>\n",
       "    </tr>\n",
       "  </thead>\n",
       "  <tbody>\n",
       "    <tr>\n",
       "      <th>0</th>\n",
       "      <td>14.23</td>\n",
       "      <td>1.71</td>\n",
       "      <td>2.43</td>\n",
       "      <td>15.6</td>\n",
       "      <td>127.0</td>\n",
       "      <td>2.80</td>\n",
       "      <td>3.06</td>\n",
       "      <td>0.28</td>\n",
       "      <td>2.29</td>\n",
       "      <td>5.64</td>\n",
       "      <td>1.04</td>\n",
       "      <td>3.92</td>\n",
       "      <td>1065.0</td>\n",
       "      <td>0</td>\n",
       "    </tr>\n",
       "    <tr>\n",
       "      <th>1</th>\n",
       "      <td>13.20</td>\n",
       "      <td>1.78</td>\n",
       "      <td>2.14</td>\n",
       "      <td>11.2</td>\n",
       "      <td>100.0</td>\n",
       "      <td>2.65</td>\n",
       "      <td>2.76</td>\n",
       "      <td>0.26</td>\n",
       "      <td>1.28</td>\n",
       "      <td>4.38</td>\n",
       "      <td>1.05</td>\n",
       "      <td>3.40</td>\n",
       "      <td>1050.0</td>\n",
       "      <td>0</td>\n",
       "    </tr>\n",
       "    <tr>\n",
       "      <th>2</th>\n",
       "      <td>13.16</td>\n",
       "      <td>2.36</td>\n",
       "      <td>2.67</td>\n",
       "      <td>18.6</td>\n",
       "      <td>101.0</td>\n",
       "      <td>2.80</td>\n",
       "      <td>3.24</td>\n",
       "      <td>0.30</td>\n",
       "      <td>2.81</td>\n",
       "      <td>5.68</td>\n",
       "      <td>1.03</td>\n",
       "      <td>3.17</td>\n",
       "      <td>1185.0</td>\n",
       "      <td>0</td>\n",
       "    </tr>\n",
       "    <tr>\n",
       "      <th>3</th>\n",
       "      <td>14.37</td>\n",
       "      <td>1.95</td>\n",
       "      <td>2.50</td>\n",
       "      <td>16.8</td>\n",
       "      <td>113.0</td>\n",
       "      <td>3.85</td>\n",
       "      <td>3.49</td>\n",
       "      <td>0.24</td>\n",
       "      <td>2.18</td>\n",
       "      <td>7.80</td>\n",
       "      <td>0.86</td>\n",
       "      <td>3.45</td>\n",
       "      <td>1480.0</td>\n",
       "      <td>0</td>\n",
       "    </tr>\n",
       "    <tr>\n",
       "      <th>4</th>\n",
       "      <td>13.24</td>\n",
       "      <td>2.59</td>\n",
       "      <td>2.87</td>\n",
       "      <td>21.0</td>\n",
       "      <td>118.0</td>\n",
       "      <td>2.80</td>\n",
       "      <td>2.69</td>\n",
       "      <td>0.39</td>\n",
       "      <td>1.82</td>\n",
       "      <td>4.32</td>\n",
       "      <td>1.04</td>\n",
       "      <td>2.93</td>\n",
       "      <td>735.0</td>\n",
       "      <td>0</td>\n",
       "    </tr>\n",
       "  </tbody>\n",
       "</table>\n",
       "</div>"
      ],
      "text/plain": [
       "  alcohol malic_acid   ash alcalinity_of_ash magnesium total_phenols  \\\n",
       "0   14.23       1.71  2.43              15.6     127.0          2.80   \n",
       "1   13.20       1.78  2.14              11.2     100.0          2.65   \n",
       "2   13.16       2.36  2.67              18.6     101.0          2.80   \n",
       "3   14.37       1.95  2.50              16.8     113.0          3.85   \n",
       "4   13.24       2.59  2.87              21.0     118.0          2.80   \n",
       "\n",
       "  flavanoids nonflavanoid_phenols proanthocyanins color_intensity   hue  \\\n",
       "0       3.06                 0.28            2.29            5.64  1.04   \n",
       "1       2.76                 0.26            1.28            4.38  1.05   \n",
       "2       3.24                 0.30            2.81            5.68  1.03   \n",
       "3       3.49                 0.24            2.18            7.80  0.86   \n",
       "4       2.69                 0.39            1.82            4.32  1.04   \n",
       "\n",
       "  od280/od315_of_diluted_wines proline target  \n",
       "0                         3.92  1065.0      0  \n",
       "1                         3.40  1050.0      0  \n",
       "2                         3.17  1185.0      0  \n",
       "3                         3.45  1480.0      0  \n",
       "4                         2.93   735.0      0  "
      ]
     },
     "execution_count": 40,
     "metadata": {},
     "output_type": "execute_result"
    }
   ],
   "source": [
    "# LGBMClassifier\n",
    "from lightgbm import LGBMClassifier\n",
    "\n",
    "import pandas as pd\n",
    "import numpy as np\n",
    "from sklearn.datasets import load_wine\n",
    "from sklearn.model_selection import train_test_split\n",
    "from sklearn.metrics import accuracy_score, precision_score, recall_score, f1_score, roc_auc_score, confusion_matrix\n",
    "import warnings\n",
    "warnings.filterwarnings('ignore')\n",
    "\n",
    "wine = load_wine()\n",
    "wine_data = wine.data\n",
    "wine_target = wine.target\n",
    "df_wine = pd.DataFrame(data = wine_data, columns=[wine.feature_names])\n",
    "df_wine['target'] = wine.target\n",
    "\n",
    "df_wine.head()"
   ]
  },
  {
   "cell_type": "markdown",
   "metadata": {
    "id": "nz7ailIF_kOx"
   },
   "source": [
    "### 4-1 `train_test_split` 을 사용하여 80%는 학습용 데이터로 20%는 테스트용 데이터로 분리하세요. (random_state = 12) (2점)\n"
   ]
  },
  {
   "cell_type": "code",
   "execution_count": 44,
   "metadata": {
    "id": "jd0jy6R5_n_b"
   },
   "outputs": [],
   "source": [
    "X_train,X_test,y_train,y_test=train_test_split(wine_data,wine_target,test_size=0.2,random_state=12)"
   ]
  },
  {
   "cell_type": "markdown",
   "metadata": {
    "id": "gDZ4K05D_psk"
   },
   "source": [
    "### 4-2 `X_train`, `y_train` 을 90%는 학습용 데이터로, 10%는 검증용 데이터로 분리하세요. (random_state = 12) (5점)"
   ]
  },
  {
   "cell_type": "code",
   "execution_count": 45,
   "metadata": {
    "id": "5TAARr1-_rmw"
   },
   "outputs": [],
   "source": [
    "X_train, X_validation, y_train, y_validation = train_test_split(X_train, y_train, test_size=0.1, random_state=12)"
   ]
  },
  {
   "cell_type": "markdown",
   "metadata": {
    "id": "FZWmf4sW_vkh"
   },
   "source": [
    "### 4-3 LGBM classifier 객체를 생성하세요. (n_estimators = 400) (5점)"
   ]
  },
  {
   "cell_type": "code",
   "execution_count": 48,
   "metadata": {
    "id": "iGM_mhRd_yHQ"
   },
   "outputs": [],
   "source": [
    "lgbm= LGBMClassifier(n_estimators=400)"
   ]
  },
  {
   "cell_type": "markdown",
   "metadata": {
    "id": "glSrfgR7_zy_"
   },
   "source": [
    "### 4-4 학습을 진행하세요. (단, `early_stopping_round` 를 이용하여 55회에 조기 중단 시키세요.) (5점)"
   ]
  },
  {
   "cell_type": "code",
   "execution_count": 49,
   "metadata": {
    "id": "zI6iGxOP_18B"
   },
   "outputs": [
    {
     "name": "stdout",
     "output_type": "stream",
     "text": [
      "[1]\tvalid_0's multi_logloss: 0.988718\n",
      "[2]\tvalid_0's multi_logloss: 0.881702\n",
      "[3]\tvalid_0's multi_logloss: 0.776051\n",
      "[4]\tvalid_0's multi_logloss: 0.700086\n",
      "[5]\tvalid_0's multi_logloss: 0.628696\n",
      "[6]\tvalid_0's multi_logloss: 0.564431\n",
      "[7]\tvalid_0's multi_logloss: 0.519449\n",
      "[8]\tvalid_0's multi_logloss: 0.466448\n",
      "[9]\tvalid_0's multi_logloss: 0.432276\n",
      "[10]\tvalid_0's multi_logloss: 0.390307\n",
      "[11]\tvalid_0's multi_logloss: 0.359687\n",
      "[12]\tvalid_0's multi_logloss: 0.333684\n",
      "[13]\tvalid_0's multi_logloss: 0.312724\n",
      "[14]\tvalid_0's multi_logloss: 0.289775\n",
      "[15]\tvalid_0's multi_logloss: 0.270365\n",
      "[16]\tvalid_0's multi_logloss: 0.254377\n",
      "[17]\tvalid_0's multi_logloss: 0.240769\n",
      "[18]\tvalid_0's multi_logloss: 0.226286\n",
      "[19]\tvalid_0's multi_logloss: 0.211887\n",
      "[20]\tvalid_0's multi_logloss: 0.202327\n",
      "[21]\tvalid_0's multi_logloss: 0.19613\n",
      "[22]\tvalid_0's multi_logloss: 0.180602\n",
      "[23]\tvalid_0's multi_logloss: 0.171935\n",
      "[24]\tvalid_0's multi_logloss: 0.164163\n",
      "[25]\tvalid_0's multi_logloss: 0.158857\n",
      "[26]\tvalid_0's multi_logloss: 0.151893\n",
      "[27]\tvalid_0's multi_logloss: 0.144625\n",
      "[28]\tvalid_0's multi_logloss: 0.140011\n",
      "[29]\tvalid_0's multi_logloss: 0.131522\n",
      "[30]\tvalid_0's multi_logloss: 0.12698\n",
      "[31]\tvalid_0's multi_logloss: 0.124197\n",
      "[32]\tvalid_0's multi_logloss: 0.118444\n",
      "[33]\tvalid_0's multi_logloss: 0.113094\n",
      "[34]\tvalid_0's multi_logloss: 0.11063\n",
      "[35]\tvalid_0's multi_logloss: 0.109345\n",
      "[36]\tvalid_0's multi_logloss: 0.105521\n",
      "[37]\tvalid_0's multi_logloss: 0.102418\n",
      "[38]\tvalid_0's multi_logloss: 0.100813\n",
      "[39]\tvalid_0's multi_logloss: 0.0979111\n",
      "[40]\tvalid_0's multi_logloss: 0.0955926\n",
      "[41]\tvalid_0's multi_logloss: 0.0935898\n",
      "[42]\tvalid_0's multi_logloss: 0.0929347\n",
      "[43]\tvalid_0's multi_logloss: 0.0895423\n",
      "[44]\tvalid_0's multi_logloss: 0.0871471\n",
      "[45]\tvalid_0's multi_logloss: 0.0839354\n",
      "[46]\tvalid_0's multi_logloss: 0.0843204\n",
      "[47]\tvalid_0's multi_logloss: 0.0832195\n",
      "[48]\tvalid_0's multi_logloss: 0.0799799\n",
      "[49]\tvalid_0's multi_logloss: 0.0798213\n",
      "[50]\tvalid_0's multi_logloss: 0.0792058\n",
      "[51]\tvalid_0's multi_logloss: 0.0799174\n",
      "[52]\tvalid_0's multi_logloss: 0.0803357\n",
      "[53]\tvalid_0's multi_logloss: 0.0786584\n",
      "[54]\tvalid_0's multi_logloss: 0.0762779\n",
      "[55]\tvalid_0's multi_logloss: 0.0766107\n",
      "[56]\tvalid_0's multi_logloss: 0.0781795\n",
      "[57]\tvalid_0's multi_logloss: 0.0775746\n",
      "[58]\tvalid_0's multi_logloss: 0.075199\n",
      "[59]\tvalid_0's multi_logloss: 0.0765882\n",
      "[60]\tvalid_0's multi_logloss: 0.0763943\n",
      "[61]\tvalid_0's multi_logloss: 0.0741891\n",
      "[62]\tvalid_0's multi_logloss: 0.0729258\n",
      "[63]\tvalid_0's multi_logloss: 0.0734652\n",
      "[64]\tvalid_0's multi_logloss: 0.0750067\n",
      "[65]\tvalid_0's multi_logloss: 0.074048\n",
      "[66]\tvalid_0's multi_logloss: 0.0728175\n",
      "[67]\tvalid_0's multi_logloss: 0.0742608\n",
      "[68]\tvalid_0's multi_logloss: 0.0746531\n",
      "[69]\tvalid_0's multi_logloss: 0.074965\n",
      "[70]\tvalid_0's multi_logloss: 0.0741929\n",
      "[71]\tvalid_0's multi_logloss: 0.0758658\n",
      "[72]\tvalid_0's multi_logloss: 0.0774067\n",
      "[73]\tvalid_0's multi_logloss: 0.078381\n",
      "[74]\tvalid_0's multi_logloss: 0.0779929\n",
      "[75]\tvalid_0's multi_logloss: 0.0789749\n",
      "[76]\tvalid_0's multi_logloss: 0.0807399\n",
      "[77]\tvalid_0's multi_logloss: 0.0799053\n",
      "[78]\tvalid_0's multi_logloss: 0.0785535\n",
      "[79]\tvalid_0's multi_logloss: 0.0785029\n",
      "[80]\tvalid_0's multi_logloss: 0.0795942\n",
      "[81]\tvalid_0's multi_logloss: 0.081384\n",
      "[82]\tvalid_0's multi_logloss: 0.0833489\n",
      "[83]\tvalid_0's multi_logloss: 0.0832364\n",
      "[84]\tvalid_0's multi_logloss: 0.0824667\n",
      "[85]\tvalid_0's multi_logloss: 0.0835407\n",
      "[86]\tvalid_0's multi_logloss: 0.0824375\n",
      "[87]\tvalid_0's multi_logloss: 0.0838234\n",
      "[88]\tvalid_0's multi_logloss: 0.0855986\n",
      "[89]\tvalid_0's multi_logloss: 0.0882521\n",
      "[90]\tvalid_0's multi_logloss: 0.0871166\n",
      "[91]\tvalid_0's multi_logloss: 0.0881859\n",
      "[92]\tvalid_0's multi_logloss: 0.0859873\n",
      "[93]\tvalid_0's multi_logloss: 0.0884627\n",
      "[94]\tvalid_0's multi_logloss: 0.0871857\n",
      "[95]\tvalid_0's multi_logloss: 0.0864932\n",
      "[96]\tvalid_0's multi_logloss: 0.0886598\n",
      "[97]\tvalid_0's multi_logloss: 0.0893055\n",
      "[98]\tvalid_0's multi_logloss: 0.0876263\n",
      "[99]\tvalid_0's multi_logloss: 0.0884836\n",
      "[100]\tvalid_0's multi_logloss: 0.0881591\n",
      "[101]\tvalid_0's multi_logloss: 0.0893064\n",
      "[102]\tvalid_0's multi_logloss: 0.0876903\n",
      "[103]\tvalid_0's multi_logloss: 0.0895439\n",
      "[104]\tvalid_0's multi_logloss: 0.0875515\n",
      "[105]\tvalid_0's multi_logloss: 0.0869469\n",
      "[106]\tvalid_0's multi_logloss: 0.0885392\n",
      "[107]\tvalid_0's multi_logloss: 0.0858506\n",
      "[108]\tvalid_0's multi_logloss: 0.0880226\n",
      "[109]\tvalid_0's multi_logloss: 0.0839575\n",
      "[110]\tvalid_0's multi_logloss: 0.0849544\n",
      "[111]\tvalid_0's multi_logloss: 0.085748\n",
      "[112]\tvalid_0's multi_logloss: 0.0845217\n",
      "[113]\tvalid_0's multi_logloss: 0.0847516\n",
      "[114]\tvalid_0's multi_logloss: 0.083896\n",
      "[115]\tvalid_0's multi_logloss: 0.0872474\n",
      "[116]\tvalid_0's multi_logloss: 0.0857181\n",
      "[117]\tvalid_0's multi_logloss: 0.0857573\n",
      "[118]\tvalid_0's multi_logloss: 0.0831835\n",
      "[119]\tvalid_0's multi_logloss: 0.0849207\n",
      "[120]\tvalid_0's multi_logloss: 0.08503\n",
      "[121]\tvalid_0's multi_logloss: 0.0859788\n",
      "[122]\tvalid_0's multi_logloss: 0.0863173\n",
      "[123]\tvalid_0's multi_logloss: 0.0873729\n",
      "[124]\tvalid_0's multi_logloss: 0.0877074\n",
      "[125]\tvalid_0's multi_logloss: 0.087545\n",
      "[126]\tvalid_0's multi_logloss: 0.0875213\n",
      "[127]\tvalid_0's multi_logloss: 0.0898744\n",
      "[128]\tvalid_0's multi_logloss: 0.0896808\n",
      "[129]\tvalid_0's multi_logloss: 0.0903968\n",
      "[130]\tvalid_0's multi_logloss: 0.0903414\n",
      "[131]\tvalid_0's multi_logloss: 0.091025\n",
      "[132]\tvalid_0's multi_logloss: 0.0907176\n",
      "[133]\tvalid_0's multi_logloss: 0.0902356\n",
      "[134]\tvalid_0's multi_logloss: 0.0896758\n",
      "[135]\tvalid_0's multi_logloss: 0.0878767\n",
      "[136]\tvalid_0's multi_logloss: 0.0876163\n",
      "[137]\tvalid_0's multi_logloss: 0.0883068\n",
      "[138]\tvalid_0's multi_logloss: 0.0873357\n",
      "[139]\tvalid_0's multi_logloss: 0.0877552\n",
      "[140]\tvalid_0's multi_logloss: 0.0882509\n",
      "[141]\tvalid_0's multi_logloss: 0.0888194\n",
      "[142]\tvalid_0's multi_logloss: 0.0892508\n",
      "[143]\tvalid_0's multi_logloss: 0.0896631\n",
      "[144]\tvalid_0's multi_logloss: 0.0901522\n",
      "[145]\tvalid_0's multi_logloss: 0.0907092\n",
      "[146]\tvalid_0's multi_logloss: 0.091124\n",
      "[147]\tvalid_0's multi_logloss: 0.0915284\n",
      "[148]\tvalid_0's multi_logloss: 0.0920106\n",
      "[149]\tvalid_0's multi_logloss: 0.0925551\n",
      "[150]\tvalid_0's multi_logloss: 0.0930195\n",
      "[151]\tvalid_0's multi_logloss: 0.0935931\n",
      "[152]\tvalid_0's multi_logloss: 0.0927817\n",
      "[153]\tvalid_0's multi_logloss: 0.093323\n",
      "[154]\tvalid_0's multi_logloss: 0.0941337\n",
      "[155]\tvalid_0's multi_logloss: 0.0933334\n",
      "[156]\tvalid_0's multi_logloss: 0.0939072\n",
      "[157]\tvalid_0's multi_logloss: 0.094679\n",
      "[158]\tvalid_0's multi_logloss: 0.0952039\n",
      "[159]\tvalid_0's multi_logloss: 0.0957592\n",
      "[160]\tvalid_0's multi_logloss: 0.0962083\n",
      "[161]\tvalid_0's multi_logloss: 0.0967217\n",
      "[162]\tvalid_0's multi_logloss: 0.0972615\n",
      "[163]\tvalid_0's multi_logloss: 0.0979774\n",
      "[164]\tvalid_0's multi_logloss: 0.0984737\n",
      "[165]\tvalid_0's multi_logloss: 0.0979925\n",
      "[166]\tvalid_0's multi_logloss: 0.0984197\n"
     ]
    }
   ],
   "source": [
    "evals=[(X_test,y_test)]\n",
    "lgbm.fit(X_train,y_train,early_stopping_rounds=100,eval_metric=\"logloss\",eval_set=evals,verbose=True)\n",
    "pred=lgbm.predict(X_test)"
   ]
  },
  {
   "cell_type": "markdown",
   "metadata": {
    "id": "Sr33RpR2_3UN"
   },
   "source": [
    "### 4-5 `plot_importance()` 를 이용하여 feature 중요도를 시각화하세요. (8점)"
   ]
  },
  {
   "cell_type": "code",
   "execution_count": 50,
   "metadata": {
    "id": "F1k7q9xE_5MN"
   },
   "outputs": [
    {
     "data": {
      "text/plain": [
       "<AxesSubplot:title={'center':'Feature importance'}, xlabel='Feature importance', ylabel='Features'>"
      ]
     },
     "execution_count": 50,
     "metadata": {},
     "output_type": "execute_result"
    },
    {
     "data": {
      "image/png": "[encoded data removed]",
      "text/plain": [
       "<Figure size 720x864 with 1 Axes>"
      ]
     },
     "metadata": {
      "needs_background": "light"
     },
     "output_type": "display_data"
    }
   ],
   "source": [
    "from lightgbm import plot_importance\n",
    "import matplotlib.pyplot as plt\n",
    "%matplotlib inline\n",
    "\n",
    "fig,ax=plt.subplots(figsize=(10,12))\n",
    "plot_importance(lgbm,ax=ax)"
   ]
  },
  {
   "cell_type": "markdown",
   "metadata": {
    "id": "z4NJTnO0AnJc"
   },
   "source": [
    "# 실습5"
   ]
  },
  {
   "cell_type": "markdown",
   "metadata": {
    "id": "MFZ_ZJTPAq0V"
   },
   "source": [
    "### 앙상블 학습"
   ]
  },
  {
   "cell_type": "markdown",
   "metadata": {
    "id": "HOkbqHSoAsXP"
   },
   "source": [
    "보팅(Voting) 방식: 같은 데이터셋에 대해 서로 다른 여러 개의 분류기의 예측값을 결합하여 최종 예측값을 결정하는 앙상블 방법"
   ]
  },
  {
   "cell_type": "markdown",
   "metadata": {
    "id": "WawdoTMkAtwY"
   },
   "source": [
    "다음은 보팅 분류기를 이용한 앙상블 학습에 필요한 라이브러리 및 데이터셋입니다.\n",
    "\n",
    "\n",
    "*   VotingClassifier: 보팅 방식의 앙상블을 구현한 클래스\n",
    "*   LogisticRegrssion: 로지스틱 회귀 클래스\n",
    "*   KNeighborsClassifier: K Nearest Neighbor(KNN) 분류 알고리즘 클래스\n",
    "*   load_breast_cancer: 종양의 크기와 모양에 관한 속성들과 종양의 악성 여부를 레이블로 하는 데이터셋, 위스콘신 유방암 데이터 세트\n",
    "*   train_test_split: 데이터 분할\n",
    "*   accuracy_score: 분류 모델의 정확도\n",
    "\n",
    "\n",
    "\n",
    "\n"
   ]
  },
  {
   "cell_type": "markdown",
   "metadata": {
    "id": "9G2HrrG7AvGx"
   },
   "source": [
    "다음 라이브러리 및 데이터를 로드해주세요."
   ]
  },
  {
   "cell_type": "code",
   "execution_count": 51,
   "metadata": {
    "id": "A7hfmOeQAo3t"
   },
   "outputs": [],
   "source": [
    "import pandas as pd\n",
    "\n",
    "from sklearn.ensemble import VotingClassifier\n",
    "from sklearn.linear_model import LogisticRegression\n",
    "from sklearn.neighbors import KNeighborsClassifier\n",
    "from sklearn.datasets import load_breast_cancer\n",
    "from sklearn.model_selection import train_test_split\n",
    "from sklearn.metrics import accuracy_score\n",
    "import warnings\n",
    "warnings.filterwarnings('ignore')\n",
    "\n",
    "cancer = load_breast_cancer()\n",
    "\n",
    "cancer_df = pd.DataFrame(cancer.data, columns=cancer.feature_names)"
   ]
  },
  {
   "cell_type": "markdown",
   "metadata": {
    "id": "YRKPu_d5Awhw"
   },
   "source": [
    "Q. 다음 과정에 따라 보팅 분류기를 구현하고 정확도를 측정하세요."
   ]
  },
  {
   "cell_type": "code",
   "execution_count": 54,
   "metadata": {
    "id": "NlY8ZvvtAyKk"
   },
   "outputs": [
    {
     "name": "stdout",
     "output_type": "stream",
     "text": [
      "0.9375\n"
     ]
    }
   ],
   "source": [
    "# 로지스틱 회귀와 KNN 개별 분류기 객체를 생성하여 각각 변수에 저장\n",
    "lr_cl=LogisticRegression()\n",
    "knn_clf=KNeighborsClassifier(n_neighbors=8)\n",
    "\n",
    "# 위에서 생성한 두 모델을 기반으로하는 소프트 보팅 객체를 생성\n",
    "vo_clf=VotingClassifier(estimators=[('LR',lr_cl),('KNN',knn_clf)],voting='soft')\n",
    "\n",
    "# 테스트 사이즈를체 데이터의 20%로 하여 train, test 데이터 셋을 분류\n",
    "X_train, X_test, y_train, y_test = train_test_split(X_train, y_train, test_size=0.2, random_state=12)\n",
    "\n",
    "# 보팅 분류기로 학습 후 테스트 데이터 예측 및 정확도 평가\n",
    "# 정확도는 소수점 넷째자리까지 출력\n",
    "vo_clf.fit(X_train,y_train)\n",
    "pred=vo_clf.predict(X_test)\n",
    "print(np.round(accuracy_score(y_test,pred),4))"
   ]
  },
  {
   "cell_type": "markdown",
   "metadata": {
    "id": "hjG0LsZMAzlJ"
   },
   "source": [
    "### 랜덤 포레스트\n",
    "\n",
    "다음 코드를 실행해 주세요."
   ]
  },
  {
   "cell_type": "code",
   "execution_count": 55,
   "metadata": {
    "id": "-E3eJdVLA04a"
   },
   "outputs": [],
   "source": [
    "from sklearn.ensemble import RandomForestClassifier"
   ]
  },
  {
   "cell_type": "markdown",
   "metadata": {
    "id": "AhvqG6NsA4o3"
   },
   "source": [
    "Q. 보팅 분류기를 구현할 때 만든 X_train, X_test, y_train, y_test을 이용하여 랜덤포레스트를 구현하고 정확도를 측정하세요."
   ]
  },
  {
   "cell_type": "code",
   "execution_count": 57,
   "metadata": {
    "id": "AKo7lX6wA44y"
   },
   "outputs": [],
   "source": [
    "# 랜덤 포레스트 객체를 rf_clf 변수로 저장\n",
    "# 이때 max_depth = 16, n_estimators = 50, random_state = 124로 지정\n",
    "rf_clf=RandomForestClassifier(max_depth = 16, n_estimators = 50, random_state = 124)\n",
    "\n",
    "# rf_clf를 이용하여 랜덤 포레스트 학습 및 예측 성능을 평가\n",
    "rf_clf.fit(X_train,y_train)\n",
    "pred=rf_clf.predict(X_test)\n",
    "\n",
    "# 정확도를 accuracy변수에 저장\n",
    "accuracy=accuracy_score(y_test,pred)"
   ]
  },
  {
   "cell_type": "markdown",
   "metadata": {
    "id": "6y56IlKJA6t-"
   },
   "source": [
    "### GBM\n",
    "\n",
    "다음 코드를 실행해 주세요."
   ]
  },
  {
   "cell_type": "code",
   "execution_count": 59,
   "metadata": {
    "id": "BmSMhT3IA7Dp"
   },
   "outputs": [],
   "source": [
    "from sklearn.ensemble import GradientBoostingClassifier\n",
    "import time\n",
    "start_time = time.time()"
   ]
  },
  {
   "cell_type": "markdown",
   "metadata": {
    "id": "W4_j62_nA9Q4"
   },
   "source": [
    "Q. GBM를 구현하고 GBM 모델의 정확도와 수행 시간을 출력하여 예측 성능을 나타내세요."
   ]
  },
  {
   "cell_type": "code",
   "execution_count": 61,
   "metadata": {
    "id": "K82xkGQPA7r-"
   },
   "outputs": [
    {
     "name": "stdout",
     "output_type": "stream",
     "text": [
      "정확도:  0.75\n",
      "수행시간:  0.41800475120544434\n"
     ]
    }
   ],
   "source": [
    "start_time = time.time()\n",
    "gb_clf=GradientBoostingClassifier(random_state=42)\n",
    "gb_clf.fit(X_train,y_train)\n",
    "pred=gb_clf.predict(X_test)\n",
    "print(\"정확도: \",accuracy_score(y_test,pred))\n",
    "print(\"수행시간: \",time.time()-start_time)"
   ]
  },
  {
   "cell_type": "markdown",
   "metadata": {
    "id": "uqFSmXE1A-39"
   },
   "source": [
    "### XGB\n",
    "\n",
    "다음 코드를 실행해 주세요."
   ]
  },
  {
   "cell_type": "code",
   "execution_count": 67,
   "metadata": {
    "id": "RqKzgPwrA_N0"
   },
   "outputs": [],
   "source": [
    "import xgboost as xgb"
   ]
  },
  {
   "cell_type": "markdown",
   "metadata": {
    "id": "QsCmLscGBB_b"
   },
   "source": [
    "Q1. 보팅 분류기를 구현할 때 만든 X_train, y_train을 다시 90%는 학습용, 10%는 검증용 데이터로 분리하세요.(random_state = 156)"
   ]
  },
  {
   "cell_type": "code",
   "execution_count": 68,
   "metadata": {
    "id": "aUx-eZH0BBnI"
   },
   "outputs": [],
   "source": [
    "X_train, X_validation, y_train, y_validation = train_test_split(X_train, y_train, test_size=0.1, random_state=12)"
   ]
  },
  {
   "cell_type": "markdown",
   "metadata": {
    "id": "Z83UlI-EBFP5"
   },
   "source": [
    "Q2. Q1문제에서 분리한 데이터로 XGBoost만의 전용 데이터 객체인 학습, 검증, 테스트용 Dmatrix를 생성하세요."
   ]
  },
  {
   "cell_type": "code",
   "execution_count": 69,
   "metadata": {
    "id": "6QbcifAoBBjG"
   },
   "outputs": [],
   "source": [
    "dtrain = xgb.DMatrix(X_train, y_train)\n",
    "dval = xgb.DMatrix(X_validation, y_validation)\n",
    "dtest = xgb.DMatrix(X_test)"
   ]
  },
  {
   "cell_type": "markdown",
   "metadata": {
    "id": "vmC5oWcQBG-7"
   },
   "source": [
    "### LightGBM\n",
    "\n",
    "현재 LightGBM의 버전과 책과의 버전이 달라 에러가 발생합니다.\n",
    "\n",
    "아래의 코드를 실행해 lightGBM의 버전이 3.2.2가 아니라면\n",
    "\n",
    "LightGBM의 버전을 3.3.2로 다운그레이드 하고 런타임을 재시작해주세요"
   ]
  },
  {
   "cell_type": "code",
   "execution_count": 63,
   "metadata": {
    "id": "cvt8O_fpBBgQ"
   },
   "outputs": [
    {
     "name": "stdout",
     "output_type": "stream",
     "text": [
      "3.3.2\n"
     ]
    }
   ],
   "source": [
    "import lightgbm\n",
    "\n",
    "print(lightgbm.__version__)"
   ]
  },
  {
   "cell_type": "code",
   "execution_count": null,
   "metadata": {
    "id": "XCyh4nQ1BBdr"
   },
   "outputs": [],
   "source": [
    "#pip install lightgbm==3.3.2"
   ]
  },
  {
   "cell_type": "markdown",
   "metadata": {
    "id": "_E9JQlMIBKXt"
   },
   "source": [
    "다음 코드를 실행해 주세요."
   ]
  },
  {
   "cell_type": "code",
   "execution_count": 64,
   "metadata": {
    "id": "2t_5owakBBbd"
   },
   "outputs": [],
   "source": [
    "from lightgbm import LGBMClassifier #import"
   ]
  },
  {
   "cell_type": "markdown",
   "metadata": {
    "id": "ssQCpSqQBMkg"
   },
   "source": [
    "Q1. lgbm_wrapper라는 변수에 LGBClassifier 객체를 할당해주세요 (이때 부스팅 반복수를 200, 학습률을 0.03으로 설정해주세요)"
   ]
  },
  {
   "cell_type": "code",
   "execution_count": 71,
   "metadata": {
    "id": "4fxgD-TSBBY7"
   },
   "outputs": [],
   "source": [
    "from lightgbm import LGBMClassifier\n",
    "lgbm_wrapper=LGBMClassifier(num_boost_round=200,learning_rate=0.03)"
   ]
  },
  {
   "cell_type": "markdown",
   "metadata": {
    "id": "p_l6Y2IABPJ1"
   },
   "source": [
    "Q2. XGB의 Q1문제에서 분리한 데이터를 이용해 LightGBM을 학습시키고, 예측해 주세요 (early_stopping_rounds=50, eval_metric=logloss로 하고 반복수를 보이게 해주세요)\n",
    "\n",
    "또한 왜 해당 반복수에서 작업 수행이 멈추었는지 설명해 주세요"
   ]
  },
  {
   "cell_type": "code",
   "execution_count": 74,
   "metadata": {
    "id": "oMeWxEnPBBWt"
   },
   "outputs": [
    {
     "name": "stdout",
     "output_type": "stream",
     "text": [
      "[LightGBM] [Warning] num_iterations is set=200, num_boost_round=200 will be ignored. Current value: num_iterations=200\n",
      "[1]\tvalid_0's multi_logloss: 1.13724\n",
      "[2]\tvalid_0's multi_logloss: 1.10618\n",
      "[3]\tvalid_0's multi_logloss: 1.07745\n",
      "[4]\tvalid_0's multi_logloss: 1.04945\n",
      "[5]\tvalid_0's multi_logloss: 1.02407\n",
      "[6]\tvalid_0's multi_logloss: 0.998687\n",
      "[7]\tvalid_0's multi_logloss: 0.975101\n",
      "[8]\tvalid_0's multi_logloss: 0.95205\n",
      "[9]\tvalid_0's multi_logloss: 0.930993\n",
      "[10]\tvalid_0's multi_logloss: 0.908972\n",
      "[11]\tvalid_0's multi_logloss: 0.886937\n",
      "[12]\tvalid_0's multi_logloss: 0.865642\n",
      "[13]\tvalid_0's multi_logloss: 0.8431\n",
      "[14]\tvalid_0's multi_logloss: 0.821812\n",
      "[15]\tvalid_0's multi_logloss: 0.800039\n",
      "[16]\tvalid_0's multi_logloss: 0.779505\n",
      "[17]\tvalid_0's multi_logloss: 0.760117\n",
      "[18]\tvalid_0's multi_logloss: 0.741794\n",
      "[19]\tvalid_0's multi_logloss: 0.725349\n",
      "[20]\tvalid_0's multi_logloss: 0.709933\n",
      "[21]\tvalid_0's multi_logloss: 0.695472\n",
      "[22]\tvalid_0's multi_logloss: 0.678598\n",
      "[23]\tvalid_0's multi_logloss: 0.662627\n",
      "[24]\tvalid_0's multi_logloss: 0.647497\n",
      "[25]\tvalid_0's multi_logloss: 0.629758\n",
      "[26]\tvalid_0's multi_logloss: 0.616127\n",
      "[27]\tvalid_0's multi_logloss: 0.599893\n",
      "[28]\tvalid_0's multi_logloss: 0.585917\n",
      "[29]\tvalid_0's multi_logloss: 0.57412\n",
      "[30]\tvalid_0's multi_logloss: 0.561258\n",
      "[31]\tvalid_0's multi_logloss: 0.54754\n",
      "[32]\tvalid_0's multi_logloss: 0.535774\n",
      "[33]\tvalid_0's multi_logloss: 0.525921\n",
      "[34]\tvalid_0's multi_logloss: 0.515046\n",
      "[35]\tvalid_0's multi_logloss: 0.50336\n",
      "[36]\tvalid_0's multi_logloss: 0.495243\n",
      "[37]\tvalid_0's multi_logloss: 0.485567\n",
      "[38]\tvalid_0's multi_logloss: 0.477612\n",
      "[39]\tvalid_0's multi_logloss: 0.471564\n",
      "[40]\tvalid_0's multi_logloss: 0.461757\n",
      "[41]\tvalid_0's multi_logloss: 0.453394\n",
      "[42]\tvalid_0's multi_logloss: 0.446784\n",
      "[43]\tvalid_0's multi_logloss: 0.442133\n",
      "[44]\tvalid_0's multi_logloss: 0.433468\n",
      "[45]\tvalid_0's multi_logloss: 0.429194\n",
      "[46]\tvalid_0's multi_logloss: 0.421043\n",
      "[47]\tvalid_0's multi_logloss: 0.416979\n",
      "[48]\tvalid_0's multi_logloss: 0.408951\n",
      "[49]\tvalid_0's multi_logloss: 0.405213\n",
      "[50]\tvalid_0's multi_logloss: 0.397188\n",
      "[51]\tvalid_0's multi_logloss: 0.393817\n",
      "[52]\tvalid_0's multi_logloss: 0.390942\n",
      "[53]\tvalid_0's multi_logloss: 0.386665\n",
      "[54]\tvalid_0's multi_logloss: 0.384083\n",
      "[55]\tvalid_0's multi_logloss: 0.38007\n",
      "[56]\tvalid_0's multi_logloss: 0.376482\n",
      "[57]\tvalid_0's multi_logloss: 0.374735\n",
      "[58]\tvalid_0's multi_logloss: 0.371096\n",
      "[59]\tvalid_0's multi_logloss: 0.369818\n",
      "[60]\tvalid_0's multi_logloss: 0.366375\n",
      "[61]\tvalid_0's multi_logloss: 0.363061\n",
      "[62]\tvalid_0's multi_logloss: 0.362019\n",
      "[63]\tvalid_0's multi_logloss: 0.358175\n",
      "[64]\tvalid_0's multi_logloss: 0.354876\n",
      "[65]\tvalid_0's multi_logloss: 0.351479\n",
      "[66]\tvalid_0's multi_logloss: 0.348402\n",
      "[67]\tvalid_0's multi_logloss: 0.345231\n",
      "[68]\tvalid_0's multi_logloss: 0.342358\n",
      "[69]\tvalid_0's multi_logloss: 0.341081\n",
      "[70]\tvalid_0's multi_logloss: 0.338378\n",
      "[71]\tvalid_0's multi_logloss: 0.337284\n",
      "[72]\tvalid_0's multi_logloss: 0.332971\n",
      "[73]\tvalid_0's multi_logloss: 0.330349\n",
      "[74]\tvalid_0's multi_logloss: 0.32625\n",
      "[75]\tvalid_0's multi_logloss: 0.325482\n",
      "[76]\tvalid_0's multi_logloss: 0.325336\n",
      "[77]\tvalid_0's multi_logloss: 0.322804\n",
      "[78]\tvalid_0's multi_logloss: 0.320913\n",
      "[79]\tvalid_0's multi_logloss: 0.318516\n",
      "[80]\tvalid_0's multi_logloss: 0.316749\n",
      "[81]\tvalid_0's multi_logloss: 0.312629\n",
      "[82]\tvalid_0's multi_logloss: 0.31273\n",
      "[83]\tvalid_0's multi_logloss: 0.310561\n",
      "[84]\tvalid_0's multi_logloss: 0.308877\n",
      "[85]\tvalid_0's multi_logloss: 0.306924\n",
      "[86]\tvalid_0's multi_logloss: 0.30535\n",
      "[87]\tvalid_0's multi_logloss: 0.303494\n",
      "[88]\tvalid_0's multi_logloss: 0.298454\n",
      "[89]\tvalid_0's multi_logloss: 0.295248\n",
      "[90]\tvalid_0's multi_logloss: 0.291779\n",
      "[91]\tvalid_0's multi_logloss: 0.288499\n",
      "[92]\tvalid_0's multi_logloss: 0.285489\n",
      "[93]\tvalid_0's multi_logloss: 0.282324\n",
      "[94]\tvalid_0's multi_logloss: 0.277973\n",
      "[95]\tvalid_0's multi_logloss: 0.274993\n",
      "[96]\tvalid_0's multi_logloss: 0.2724\n",
      "[97]\tvalid_0's multi_logloss: 0.272661\n",
      "[98]\tvalid_0's multi_logloss: 0.27297\n",
      "[99]\tvalid_0's multi_logloss: 0.271994\n",
      "[100]\tvalid_0's multi_logloss: 0.272342\n",
      "[101]\tvalid_0's multi_logloss: 0.271414\n",
      "[102]\tvalid_0's multi_logloss: 0.269021\n",
      "[103]\tvalid_0's multi_logloss: 0.268399\n",
      "[104]\tvalid_0's multi_logloss: 0.267819\n",
      "[105]\tvalid_0's multi_logloss: 0.267416\n",
      "[106]\tvalid_0's multi_logloss: 0.267923\n",
      "[107]\tvalid_0's multi_logloss: 0.266794\n",
      "[108]\tvalid_0's multi_logloss: 0.266174\n",
      "[109]\tvalid_0's multi_logloss: 0.266737\n",
      "[110]\tvalid_0's multi_logloss: 0.265545\n",
      "[111]\tvalid_0's multi_logloss: 0.265003\n",
      "[112]\tvalid_0's multi_logloss: 0.262956\n",
      "[113]\tvalid_0's multi_logloss: 0.262871\n",
      "[114]\tvalid_0's multi_logloss: 0.263198\n",
      "[115]\tvalid_0's multi_logloss: 0.261946\n",
      "[116]\tvalid_0's multi_logloss: 0.2611\n",
      "[117]\tvalid_0's multi_logloss: 0.258703\n",
      "[118]\tvalid_0's multi_logloss: 0.257672\n",
      "[119]\tvalid_0's multi_logloss: 0.257422\n",
      "[120]\tvalid_0's multi_logloss: 0.256326\n",
      "[121]\tvalid_0's multi_logloss: 0.254737\n",
      "[122]\tvalid_0's multi_logloss: 0.253698\n",
      "[123]\tvalid_0's multi_logloss: 0.25064\n",
      "[124]\tvalid_0's multi_logloss: 0.251737\n",
      "[125]\tvalid_0's multi_logloss: 0.251256\n",
      "[126]\tvalid_0's multi_logloss: 0.250227\n",
      "[127]\tvalid_0's multi_logloss: 0.249321\n",
      "[128]\tvalid_0's multi_logloss: 0.250024\n",
      "[129]\tvalid_0's multi_logloss: 0.249609\n",
      "[130]\tvalid_0's multi_logloss: 0.247144\n",
      "[131]\tvalid_0's multi_logloss: 0.247861\n",
      "[132]\tvalid_0's multi_logloss: 0.24751\n",
      "[133]\tvalid_0's multi_logloss: 0.246542\n",
      "[134]\tvalid_0's multi_logloss: 0.24581\n",
      "[135]\tvalid_0's multi_logloss: 0.243476\n",
      "[136]\tvalid_0's multi_logloss: 0.244191\n",
      "[137]\tvalid_0's multi_logloss: 0.243597\n",
      "[138]\tvalid_0's multi_logloss: 0.243859\n",
      "[139]\tvalid_0's multi_logloss: 0.241572\n",
      "[140]\tvalid_0's multi_logloss: 0.242767\n",
      "[141]\tvalid_0's multi_logloss: 0.241261\n",
      "[142]\tvalid_0's multi_logloss: 0.240392\n",
      "[143]\tvalid_0's multi_logloss: 0.240299\n",
      "[144]\tvalid_0's multi_logloss: 0.239296\n",
      "[145]\tvalid_0's multi_logloss: 0.23959\n",
      "[146]\tvalid_0's multi_logloss: 0.237854\n",
      "[147]\tvalid_0's multi_logloss: 0.238167\n",
      "[148]\tvalid_0's multi_logloss: 0.238191\n",
      "[149]\tvalid_0's multi_logloss: 0.237338\n",
      "[150]\tvalid_0's multi_logloss: 0.236081\n",
      "[151]\tvalid_0's multi_logloss: 0.236413\n",
      "[152]\tvalid_0's multi_logloss: 0.234881\n",
      "[153]\tvalid_0's multi_logloss: 0.235707\n",
      "[154]\tvalid_0's multi_logloss: 0.233095\n",
      "[155]\tvalid_0's multi_logloss: 0.234018\n",
      "[156]\tvalid_0's multi_logloss: 0.231566\n",
      "[157]\tvalid_0's multi_logloss: 0.232416\n",
      "[158]\tvalid_0's multi_logloss: 0.230467\n",
      "[159]\tvalid_0's multi_logloss: 0.229283\n",
      "[160]\tvalid_0's multi_logloss: 0.22916\n",
      "[161]\tvalid_0's multi_logloss: 0.229754\n",
      "[162]\tvalid_0's multi_logloss: 0.22949\n",
      "[163]\tvalid_0's multi_logloss: 0.227132\n",
      "[164]\tvalid_0's multi_logloss: 0.22773\n",
      "[165]\tvalid_0's multi_logloss: 0.226958\n",
      "[166]\tvalid_0's multi_logloss: 0.226733\n",
      "[167]\tvalid_0's multi_logloss: 0.226177\n",
      "[168]\tvalid_0's multi_logloss: 0.226799\n",
      "[169]\tvalid_0's multi_logloss: 0.225687\n",
      "[170]\tvalid_0's multi_logloss: 0.224312\n",
      "[171]\tvalid_0's multi_logloss: 0.225195\n",
      "[172]\tvalid_0's multi_logloss: 0.223508\n",
      "[173]\tvalid_0's multi_logloss: 0.223976\n",
      "[174]\tvalid_0's multi_logloss: 0.223732\n",
      "[175]\tvalid_0's multi_logloss: 0.222928\n",
      "[176]\tvalid_0's multi_logloss: 0.221027\n",
      "[177]\tvalid_0's multi_logloss: 0.221979\n",
      "[178]\tvalid_0's multi_logloss: 0.220169\n",
      "[179]\tvalid_0's multi_logloss: 0.221067\n",
      "[180]\tvalid_0's multi_logloss: 0.219375\n",
      "[181]\tvalid_0's multi_logloss: 0.219151\n",
      "[182]\tvalid_0's multi_logloss: 0.218728\n",
      "[183]\tvalid_0's multi_logloss: 0.219201\n",
      "[184]\tvalid_0's multi_logloss: 0.217846\n",
      "[185]\tvalid_0's multi_logloss: 0.217147\n",
      "[186]\tvalid_0's multi_logloss: 0.216972\n",
      "[187]\tvalid_0's multi_logloss: 0.217455\n",
      "[188]\tvalid_0's multi_logloss: 0.216131\n",
      "[189]\tvalid_0's multi_logloss: 0.216619\n",
      "[190]\tvalid_0's multi_logloss: 0.215886\n",
      "[191]\tvalid_0's multi_logloss: 0.215739\n",
      "[192]\tvalid_0's multi_logloss: 0.214212\n",
      "[193]\tvalid_0's multi_logloss: 0.214664\n",
      "[194]\tvalid_0's multi_logloss: 0.214317\n",
      "[195]\tvalid_0's multi_logloss: 0.213617\n",
      "[196]\tvalid_0's multi_logloss: 0.213552\n",
      "[197]\tvalid_0's multi_logloss: 0.213079\n",
      "[198]\tvalid_0's multi_logloss: 0.21254\n",
      "[199]\tvalid_0's multi_logloss: 0.213086\n",
      "[200]\tvalid_0's multi_logloss: 0.212409\n"
     ]
    }
   ],
   "source": [
    "evals=[(X_test,y_test)]\n",
    "lgbm_wrapper.fit(X_train,y_train,early_stopping_rounds=50,eval_metric=\"logloss\",eval_set=evals,verbose=True)\n",
    "pred=lgbm.predict(X_test)"
   ]
  },
  {
   "cell_type": "markdown",
   "metadata": {},
   "source": [
    "검증 데이터의 loss나 성능지표가 50회 동안 향상되지 않으면 조기 종료하기 때문이다."
   ]
  },
  {
   "cell_type": "markdown",
   "metadata": {
    "id": "lbcN69w9BTve"
   },
   "source": [
    "Q3. plot_importance()를 이용해 feature의 중요도를 시각화해주세요"
   ]
  },
  {
   "cell_type": "code",
   "execution_count": 75,
   "metadata": {
    "id": "te3RfzpfBUIR"
   },
   "outputs": [
    {
     "data": {
      "text/plain": [
       "<AxesSubplot:title={'center':'Feature importance'}, xlabel='Feature importance', ylabel='Features'>"
      ]
     },
     "execution_count": 75,
     "metadata": {},
     "output_type": "execute_result"
    },
    {
     "data": {
      "image/png": "[encoded data removed]",
      "text/plain": [
       "<Figure size 720x864 with 1 Axes>"
      ]
     },
     "metadata": {
      "needs_background": "light"
     },
     "output_type": "display_data"
    }
   ],
   "source": [
    "from lightgbm import plot_importance\n",
    "import matplotlib.pyplot as plt\n",
    "%matplotlib inline\n",
    "\n",
    "fig,ax=plt.subplots(figsize=(10,12))\n",
    "plot_importance(lgbm_wrapper,ax=ax)"
   ]
  }
 ],
 "metadata": {
  "colab": {
   "authorship_tag": "ABX9TyMi1mp7+2ynppHAfIM7LzPV",
   "provenance": []
  },
  "kernelspec": {
   "display_name": "Python 3 (ipykernel)",
   "language": "python",
   "name": "python3"
  },
  "language_info": {
   "codemirror_mode": {
    "name": "ipython",
    "version": 3
   },
   "file_extension": ".py",
   "mimetype": "text/x-python",
   "name": "python",
   "nbconvert_exporter": "python",
   "pygments_lexer": "ipython3",
   "version": "3.9.7"
  }
 },
 "nbformat": 4,
 "nbformat_minor": 1
}
